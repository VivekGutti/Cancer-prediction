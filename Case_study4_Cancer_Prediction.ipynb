{
 "cells": [
  {
   "cell_type": "code",
   "execution_count": 2,
   "metadata": {
    "colab": {},
    "colab_type": "code",
    "id": "LZbqKzJACHLK"
   },
   "outputs": [],
   "source": [
    "import numpy as np\n",
    "import pandas as pd\n",
    "import matplotlib.pyplot as plt\n",
    "%matplotlib inline\n",
    "import seaborn as sns\n",
    "from sklearn.linear_model import LinearRegression\n",
    "from sklearn.preprocessing import StandardScaler\n",
    "from sklearn import model_selection\n",
    "import statsmodels.formula.api as smf"
   ]
  },
  {
   "cell_type": "code",
   "execution_count": 4,
   "metadata": {
    "colab": {
     "base_uri": "https://localhost:8080/",
     "height": 377
    },
    "colab_type": "code",
    "executionInfo": {
     "elapsed": 1322,
     "status": "ok",
     "timestamp": 1581507529340,
     "user": {
      "displayName": "Mahesh Anand",
      "photoUrl": "https://lh3.googleusercontent.com/a-/AAuE7mDwRqsBffQmzXsc6rHxDVmepWB7mxD_zfhcK5E1=s64",
      "userId": "06788086636039591358"
     },
     "user_tz": -330
    },
    "id": "hoXMFxqzCHLU",
    "outputId": "e7d204dc-e39b-438c-8fad-b8d54597aef0"
   },
   "outputs": [
    {
     "data": {
      "text/html": [
       "<div>\n",
       "<style scoped>\n",
       "    .dataframe tbody tr th:only-of-type {\n",
       "        vertical-align: middle;\n",
       "    }\n",
       "\n",
       "    .dataframe tbody tr th {\n",
       "        vertical-align: top;\n",
       "    }\n",
       "\n",
       "    .dataframe thead th {\n",
       "        text-align: right;\n",
       "    }\n",
       "</style>\n",
       "<table border=\"1\" class=\"dataframe\">\n",
       "  <thead>\n",
       "    <tr style=\"text-align: right;\">\n",
       "      <th></th>\n",
       "      <th>id</th>\n",
       "      <th>diagnosis</th>\n",
       "      <th>radius_mean</th>\n",
       "      <th>texture_mean</th>\n",
       "      <th>perimeter_mean</th>\n",
       "      <th>area_mean</th>\n",
       "      <th>smoothness_mean</th>\n",
       "      <th>compactness_mean</th>\n",
       "      <th>concavity_mean</th>\n",
       "      <th>points_mean</th>\n",
       "      <th>...</th>\n",
       "      <th>radius_worst</th>\n",
       "      <th>texture_worst</th>\n",
       "      <th>perimeter_worst</th>\n",
       "      <th>area_worst</th>\n",
       "      <th>smoothness_worst</th>\n",
       "      <th>compactness_worst</th>\n",
       "      <th>concavity_worst</th>\n",
       "      <th>points_worst</th>\n",
       "      <th>symmetry_worst</th>\n",
       "      <th>dimension_worst</th>\n",
       "    </tr>\n",
       "  </thead>\n",
       "  <tbody>\n",
       "    <tr>\n",
       "      <th>0</th>\n",
       "      <td>87139402</td>\n",
       "      <td>B</td>\n",
       "      <td>12.32</td>\n",
       "      <td>12.39</td>\n",
       "      <td>78.85</td>\n",
       "      <td>464.1</td>\n",
       "      <td>0.10280</td>\n",
       "      <td>0.06981</td>\n",
       "      <td>0.03987</td>\n",
       "      <td>0.03700</td>\n",
       "      <td>...</td>\n",
       "      <td>13.50</td>\n",
       "      <td>15.64</td>\n",
       "      <td>86.97</td>\n",
       "      <td>549.1</td>\n",
       "      <td>0.1385</td>\n",
       "      <td>0.1266</td>\n",
       "      <td>0.12420</td>\n",
       "      <td>0.09391</td>\n",
       "      <td>0.2827</td>\n",
       "      <td>0.06771</td>\n",
       "    </tr>\n",
       "    <tr>\n",
       "      <th>1</th>\n",
       "      <td>8910251</td>\n",
       "      <td>B</td>\n",
       "      <td>10.60</td>\n",
       "      <td>18.95</td>\n",
       "      <td>69.28</td>\n",
       "      <td>346.4</td>\n",
       "      <td>0.09688</td>\n",
       "      <td>0.11470</td>\n",
       "      <td>0.06387</td>\n",
       "      <td>0.02642</td>\n",
       "      <td>...</td>\n",
       "      <td>11.88</td>\n",
       "      <td>22.94</td>\n",
       "      <td>78.28</td>\n",
       "      <td>424.8</td>\n",
       "      <td>0.1213</td>\n",
       "      <td>0.2515</td>\n",
       "      <td>0.19160</td>\n",
       "      <td>0.07926</td>\n",
       "      <td>0.2940</td>\n",
       "      <td>0.07587</td>\n",
       "    </tr>\n",
       "    <tr>\n",
       "      <th>2</th>\n",
       "      <td>905520</td>\n",
       "      <td>B</td>\n",
       "      <td>11.04</td>\n",
       "      <td>16.83</td>\n",
       "      <td>70.92</td>\n",
       "      <td>373.2</td>\n",
       "      <td>0.10770</td>\n",
       "      <td>0.07804</td>\n",
       "      <td>0.03046</td>\n",
       "      <td>0.02480</td>\n",
       "      <td>...</td>\n",
       "      <td>12.41</td>\n",
       "      <td>26.44</td>\n",
       "      <td>79.93</td>\n",
       "      <td>471.4</td>\n",
       "      <td>0.1369</td>\n",
       "      <td>0.1482</td>\n",
       "      <td>0.10670</td>\n",
       "      <td>0.07431</td>\n",
       "      <td>0.2998</td>\n",
       "      <td>0.07881</td>\n",
       "    </tr>\n",
       "    <tr>\n",
       "      <th>3</th>\n",
       "      <td>868871</td>\n",
       "      <td>B</td>\n",
       "      <td>11.28</td>\n",
       "      <td>13.39</td>\n",
       "      <td>73.00</td>\n",
       "      <td>384.8</td>\n",
       "      <td>0.11640</td>\n",
       "      <td>0.11360</td>\n",
       "      <td>0.04635</td>\n",
       "      <td>0.04796</td>\n",
       "      <td>...</td>\n",
       "      <td>11.92</td>\n",
       "      <td>15.77</td>\n",
       "      <td>76.53</td>\n",
       "      <td>434.0</td>\n",
       "      <td>0.1367</td>\n",
       "      <td>0.1822</td>\n",
       "      <td>0.08669</td>\n",
       "      <td>0.08611</td>\n",
       "      <td>0.2102</td>\n",
       "      <td>0.06784</td>\n",
       "    </tr>\n",
       "    <tr>\n",
       "      <th>4</th>\n",
       "      <td>9012568</td>\n",
       "      <td>B</td>\n",
       "      <td>15.19</td>\n",
       "      <td>13.21</td>\n",
       "      <td>97.65</td>\n",
       "      <td>711.8</td>\n",
       "      <td>0.07963</td>\n",
       "      <td>0.06934</td>\n",
       "      <td>0.03393</td>\n",
       "      <td>0.02657</td>\n",
       "      <td>...</td>\n",
       "      <td>16.20</td>\n",
       "      <td>15.73</td>\n",
       "      <td>104.50</td>\n",
       "      <td>819.1</td>\n",
       "      <td>0.1126</td>\n",
       "      <td>0.1737</td>\n",
       "      <td>0.13620</td>\n",
       "      <td>0.08178</td>\n",
       "      <td>0.2487</td>\n",
       "      <td>0.06766</td>\n",
       "    </tr>\n",
       "  </tbody>\n",
       "</table>\n",
       "<p>5 rows × 32 columns</p>\n",
       "</div>"
      ],
      "text/plain": [
       "         id diagnosis  radius_mean  texture_mean  perimeter_mean  area_mean  \\\n",
       "0  87139402         B        12.32         12.39           78.85      464.1   \n",
       "1   8910251         B        10.60         18.95           69.28      346.4   \n",
       "2    905520         B        11.04         16.83           70.92      373.2   \n",
       "3    868871         B        11.28         13.39           73.00      384.8   \n",
       "4   9012568         B        15.19         13.21           97.65      711.8   \n",
       "\n",
       "   smoothness_mean  compactness_mean  concavity_mean  points_mean  ...  \\\n",
       "0          0.10280           0.06981         0.03987      0.03700  ...   \n",
       "1          0.09688           0.11470         0.06387      0.02642  ...   \n",
       "2          0.10770           0.07804         0.03046      0.02480  ...   \n",
       "3          0.11640           0.11360         0.04635      0.04796  ...   \n",
       "4          0.07963           0.06934         0.03393      0.02657  ...   \n",
       "\n",
       "   radius_worst  texture_worst  perimeter_worst  area_worst  smoothness_worst  \\\n",
       "0         13.50          15.64            86.97       549.1            0.1385   \n",
       "1         11.88          22.94            78.28       424.8            0.1213   \n",
       "2         12.41          26.44            79.93       471.4            0.1369   \n",
       "3         11.92          15.77            76.53       434.0            0.1367   \n",
       "4         16.20          15.73           104.50       819.1            0.1126   \n",
       "\n",
       "   compactness_worst  concavity_worst  points_worst  symmetry_worst  \\\n",
       "0             0.1266          0.12420       0.09391          0.2827   \n",
       "1             0.2515          0.19160       0.07926          0.2940   \n",
       "2             0.1482          0.10670       0.07431          0.2998   \n",
       "3             0.1822          0.08669       0.08611          0.2102   \n",
       "4             0.1737          0.13620       0.08178          0.2487   \n",
       "\n",
       "   dimension_worst  \n",
       "0          0.06771  \n",
       "1          0.07587  \n",
       "2          0.07881  \n",
       "3          0.06784  \n",
       "4          0.06766  \n",
       "\n",
       "[5 rows x 32 columns]"
      ]
     },
     "execution_count": 4,
     "metadata": {},
     "output_type": "execute_result"
    }
   ],
   "source": [
    "A=pd.read_csv('wisc_bc_data.csv')\n",
    "A.head()"
   ]
  },
  {
   "cell_type": "code",
   "execution_count": 0,
   "metadata": {
    "colab": {
     "base_uri": "https://localhost:8080/",
     "height": 34
    },
    "colab_type": "code",
    "executionInfo": {
     "elapsed": 1069,
     "status": "ok",
     "timestamp": 1581507535149,
     "user": {
      "displayName": "Mahesh Anand",
      "photoUrl": "https://lh3.googleusercontent.com/a-/AAuE7mDwRqsBffQmzXsc6rHxDVmepWB7mxD_zfhcK5E1=s64",
      "userId": "06788086636039591358"
     },
     "user_tz": -330
    },
    "id": "KNNuc8js9SnL",
    "outputId": "f5a9557c-029d-4371-fe35-43aa99efbf07"
   },
   "outputs": [
    {
     "data": {
      "text/plain": [
       "(569, 32)"
      ]
     },
     "execution_count": 4,
     "metadata": {
      "tags": []
     },
     "output_type": "execute_result"
    }
   ],
   "source": [
    "A.shape"
   ]
  },
  {
   "cell_type": "code",
   "execution_count": 5,
   "metadata": {},
   "outputs": [
    {
     "data": {
      "text/plain": [
       "Index(['id', 'diagnosis', 'radius_mean', 'texture_mean', 'perimeter_mean',\n",
       "       'area_mean', 'smoothness_mean', 'compactness_mean', 'concavity_mean',\n",
       "       'points_mean', 'symmetry_mean', 'dimension_mean', 'radius_se',\n",
       "       'texture_se', 'perimeter_se', 'area_se', 'smoothness_se',\n",
       "       'compactness_se', 'concavity_se', 'points_se', 'symmetry_se',\n",
       "       'dimension_se', 'radius_worst', 'texture_worst', 'perimeter_worst',\n",
       "       'area_worst', 'smoothness_worst', 'compactness_worst',\n",
       "       'concavity_worst', 'points_worst', 'symmetry_worst', 'dimension_worst'],\n",
       "      dtype='object')"
      ]
     },
     "execution_count": 5,
     "metadata": {},
     "output_type": "execute_result"
    }
   ],
   "source": [
    "A.columns"
   ]
  },
  {
   "cell_type": "code",
   "execution_count": 6,
   "metadata": {},
   "outputs": [
    {
     "name": "stdout",
     "output_type": "stream",
     "text": [
      "<class 'pandas.core.frame.DataFrame'>\n",
      "RangeIndex: 569 entries, 0 to 568\n",
      "Data columns (total 32 columns):\n",
      "id                   569 non-null int64\n",
      "diagnosis            569 non-null object\n",
      "radius_mean          569 non-null float64\n",
      "texture_mean         569 non-null float64\n",
      "perimeter_mean       569 non-null float64\n",
      "area_mean            569 non-null float64\n",
      "smoothness_mean      569 non-null float64\n",
      "compactness_mean     569 non-null float64\n",
      "concavity_mean       569 non-null float64\n",
      "points_mean          569 non-null float64\n",
      "symmetry_mean        569 non-null float64\n",
      "dimension_mean       569 non-null float64\n",
      "radius_se            569 non-null float64\n",
      "texture_se           569 non-null float64\n",
      "perimeter_se         569 non-null float64\n",
      "area_se              569 non-null float64\n",
      "smoothness_se        569 non-null float64\n",
      "compactness_se       569 non-null float64\n",
      "concavity_se         569 non-null float64\n",
      "points_se            569 non-null float64\n",
      "symmetry_se          569 non-null float64\n",
      "dimension_se         569 non-null float64\n",
      "radius_worst         569 non-null float64\n",
      "texture_worst        569 non-null float64\n",
      "perimeter_worst      569 non-null float64\n",
      "area_worst           569 non-null float64\n",
      "smoothness_worst     569 non-null float64\n",
      "compactness_worst    569 non-null float64\n",
      "concavity_worst      569 non-null float64\n",
      "points_worst         569 non-null float64\n",
      "symmetry_worst       569 non-null float64\n",
      "dimension_worst      569 non-null float64\n",
      "dtypes: float64(30), int64(1), object(1)\n",
      "memory usage: 142.3+ KB\n"
     ]
    }
   ],
   "source": [
    "A.info()"
   ]
  },
  {
   "cell_type": "code",
   "execution_count": 7,
   "metadata": {},
   "outputs": [
    {
     "data": {
      "text/plain": [
       "id                   0\n",
       "diagnosis            0\n",
       "radius_mean          0\n",
       "texture_mean         0\n",
       "perimeter_mean       0\n",
       "area_mean            0\n",
       "smoothness_mean      0\n",
       "compactness_mean     0\n",
       "concavity_mean       0\n",
       "points_mean          0\n",
       "symmetry_mean        0\n",
       "dimension_mean       0\n",
       "radius_se            0\n",
       "texture_se           0\n",
       "perimeter_se         0\n",
       "area_se              0\n",
       "smoothness_se        0\n",
       "compactness_se       0\n",
       "concavity_se         0\n",
       "points_se            0\n",
       "symmetry_se          0\n",
       "dimension_se         0\n",
       "radius_worst         0\n",
       "texture_worst        0\n",
       "perimeter_worst      0\n",
       "area_worst           0\n",
       "smoothness_worst     0\n",
       "compactness_worst    0\n",
       "concavity_worst      0\n",
       "points_worst         0\n",
       "symmetry_worst       0\n",
       "dimension_worst      0\n",
       "dtype: int64"
      ]
     },
     "execution_count": 7,
     "metadata": {},
     "output_type": "execute_result"
    }
   ],
   "source": [
    "A.isnull().sum()"
   ]
  },
  {
   "cell_type": "code",
   "execution_count": 0,
   "metadata": {
    "colab": {},
    "colab_type": "code",
    "id": "YGoD__aHjWjX"
   },
   "outputs": [],
   "source": [
    "A['diagnosis'].replace({'B':0,'M':1},inplace=True)"
   ]
  },
  {
   "cell_type": "code",
   "execution_count": 0,
   "metadata": {
    "colab": {
     "base_uri": "https://localhost:8080/",
     "height": 1000
    },
    "colab_type": "code",
    "executionInfo": {
     "elapsed": 1134,
     "status": "ok",
     "timestamp": 1581508477997,
     "user": {
      "displayName": "Mahesh Anand",
      "photoUrl": "https://lh3.googleusercontent.com/a-/AAuE7mDwRqsBffQmzXsc6rHxDVmepWB7mxD_zfhcK5E1=s64",
      "userId": "06788086636039591358"
     },
     "user_tz": -330
    },
    "id": "0c2D48it-EAP",
    "outputId": "004c40fe-b04d-4982-a059-d5413259af86"
   },
   "outputs": [
    {
     "data": {
      "text/html": [
       "<div>\n",
       "<style scoped>\n",
       "    .dataframe tbody tr th:only-of-type {\n",
       "        vertical-align: middle;\n",
       "    }\n",
       "\n",
       "    .dataframe tbody tr th {\n",
       "        vertical-align: top;\n",
       "    }\n",
       "\n",
       "    .dataframe thead th {\n",
       "        text-align: right;\n",
       "    }\n",
       "</style>\n",
       "<table border=\"1\" class=\"dataframe\">\n",
       "  <thead>\n",
       "    <tr style=\"text-align: right;\">\n",
       "      <th></th>\n",
       "      <th>id</th>\n",
       "      <th>diagnosis</th>\n",
       "      <th>radius_mean</th>\n",
       "      <th>texture_mean</th>\n",
       "      <th>perimeter_mean</th>\n",
       "      <th>area_mean</th>\n",
       "      <th>smoothness_mean</th>\n",
       "      <th>compactness_mean</th>\n",
       "      <th>concavity_mean</th>\n",
       "      <th>points_mean</th>\n",
       "      <th>symmetry_mean</th>\n",
       "      <th>dimension_mean</th>\n",
       "      <th>radius_se</th>\n",
       "      <th>texture_se</th>\n",
       "      <th>perimeter_se</th>\n",
       "      <th>area_se</th>\n",
       "      <th>smoothness_se</th>\n",
       "      <th>compactness_se</th>\n",
       "      <th>concavity_se</th>\n",
       "      <th>points_se</th>\n",
       "      <th>symmetry_se</th>\n",
       "      <th>dimension_se</th>\n",
       "      <th>radius_worst</th>\n",
       "      <th>texture_worst</th>\n",
       "      <th>perimeter_worst</th>\n",
       "      <th>area_worst</th>\n",
       "      <th>smoothness_worst</th>\n",
       "      <th>compactness_worst</th>\n",
       "      <th>concavity_worst</th>\n",
       "      <th>points_worst</th>\n",
       "      <th>symmetry_worst</th>\n",
       "      <th>dimension_worst</th>\n",
       "    </tr>\n",
       "  </thead>\n",
       "  <tbody>\n",
       "    <tr>\n",
       "      <th>id</th>\n",
       "      <td>1.000000</td>\n",
       "      <td>0.039769</td>\n",
       "      <td>0.074626</td>\n",
       "      <td>0.099770</td>\n",
       "      <td>0.073159</td>\n",
       "      <td>0.096893</td>\n",
       "      <td>-0.012968</td>\n",
       "      <td>0.000096</td>\n",
       "      <td>0.050080</td>\n",
       "      <td>0.044158</td>\n",
       "      <td>-0.022114</td>\n",
       "      <td>-0.052511</td>\n",
       "      <td>0.143048</td>\n",
       "      <td>-0.007526</td>\n",
       "      <td>0.137331</td>\n",
       "      <td>0.177742</td>\n",
       "      <td>0.096781</td>\n",
       "      <td>0.033961</td>\n",
       "      <td>0.055239</td>\n",
       "      <td>0.078768</td>\n",
       "      <td>-0.017306</td>\n",
       "      <td>0.025725</td>\n",
       "      <td>0.082405</td>\n",
       "      <td>0.064720</td>\n",
       "      <td>0.079986</td>\n",
       "      <td>0.107187</td>\n",
       "      <td>0.010338</td>\n",
       "      <td>-0.002968</td>\n",
       "      <td>0.023203</td>\n",
       "      <td>0.035174</td>\n",
       "      <td>-0.044224</td>\n",
       "      <td>-0.029866</td>\n",
       "    </tr>\n",
       "    <tr>\n",
       "      <th>diagnosis</th>\n",
       "      <td>0.039769</td>\n",
       "      <td>1.000000</td>\n",
       "      <td>0.730029</td>\n",
       "      <td>0.415185</td>\n",
       "      <td>0.742636</td>\n",
       "      <td>0.708984</td>\n",
       "      <td>0.358560</td>\n",
       "      <td>0.596534</td>\n",
       "      <td>0.696360</td>\n",
       "      <td>0.776614</td>\n",
       "      <td>0.330499</td>\n",
       "      <td>-0.012838</td>\n",
       "      <td>0.567134</td>\n",
       "      <td>-0.008303</td>\n",
       "      <td>0.556141</td>\n",
       "      <td>0.548236</td>\n",
       "      <td>-0.067016</td>\n",
       "      <td>0.292999</td>\n",
       "      <td>0.253730</td>\n",
       "      <td>0.408042</td>\n",
       "      <td>-0.006522</td>\n",
       "      <td>0.077972</td>\n",
       "      <td>0.776454</td>\n",
       "      <td>0.456903</td>\n",
       "      <td>0.782914</td>\n",
       "      <td>0.733825</td>\n",
       "      <td>0.421465</td>\n",
       "      <td>0.590998</td>\n",
       "      <td>0.659610</td>\n",
       "      <td>0.793566</td>\n",
       "      <td>0.416294</td>\n",
       "      <td>0.323872</td>\n",
       "    </tr>\n",
       "    <tr>\n",
       "      <th>radius_mean</th>\n",
       "      <td>0.074626</td>\n",
       "      <td>0.730029</td>\n",
       "      <td>1.000000</td>\n",
       "      <td>0.323782</td>\n",
       "      <td>0.997855</td>\n",
       "      <td>0.987357</td>\n",
       "      <td>0.170581</td>\n",
       "      <td>0.506124</td>\n",
       "      <td>0.676764</td>\n",
       "      <td>0.822529</td>\n",
       "      <td>0.147741</td>\n",
       "      <td>-0.311631</td>\n",
       "      <td>0.679090</td>\n",
       "      <td>-0.097317</td>\n",
       "      <td>0.674172</td>\n",
       "      <td>0.735864</td>\n",
       "      <td>-0.222600</td>\n",
       "      <td>0.206000</td>\n",
       "      <td>0.194204</td>\n",
       "      <td>0.376169</td>\n",
       "      <td>-0.104321</td>\n",
       "      <td>-0.042641</td>\n",
       "      <td>0.969539</td>\n",
       "      <td>0.297008</td>\n",
       "      <td>0.965137</td>\n",
       "      <td>0.941082</td>\n",
       "      <td>0.119616</td>\n",
       "      <td>0.413463</td>\n",
       "      <td>0.526911</td>\n",
       "      <td>0.744214</td>\n",
       "      <td>0.163953</td>\n",
       "      <td>0.007066</td>\n",
       "    </tr>\n",
       "    <tr>\n",
       "      <th>texture_mean</th>\n",
       "      <td>0.099770</td>\n",
       "      <td>0.415185</td>\n",
       "      <td>0.323782</td>\n",
       "      <td>1.000000</td>\n",
       "      <td>0.329533</td>\n",
       "      <td>0.321086</td>\n",
       "      <td>-0.023389</td>\n",
       "      <td>0.236702</td>\n",
       "      <td>0.302418</td>\n",
       "      <td>0.293464</td>\n",
       "      <td>0.071401</td>\n",
       "      <td>-0.076437</td>\n",
       "      <td>0.275869</td>\n",
       "      <td>0.386358</td>\n",
       "      <td>0.281673</td>\n",
       "      <td>0.259845</td>\n",
       "      <td>0.006614</td>\n",
       "      <td>0.191975</td>\n",
       "      <td>0.143293</td>\n",
       "      <td>0.163851</td>\n",
       "      <td>0.009127</td>\n",
       "      <td>0.054458</td>\n",
       "      <td>0.352573</td>\n",
       "      <td>0.912045</td>\n",
       "      <td>0.358040</td>\n",
       "      <td>0.343546</td>\n",
       "      <td>0.077503</td>\n",
       "      <td>0.277830</td>\n",
       "      <td>0.301025</td>\n",
       "      <td>0.295316</td>\n",
       "      <td>0.105008</td>\n",
       "      <td>0.119205</td>\n",
       "    </tr>\n",
       "    <tr>\n",
       "      <th>perimeter_mean</th>\n",
       "      <td>0.073159</td>\n",
       "      <td>0.742636</td>\n",
       "      <td>0.997855</td>\n",
       "      <td>0.329533</td>\n",
       "      <td>1.000000</td>\n",
       "      <td>0.986507</td>\n",
       "      <td>0.207278</td>\n",
       "      <td>0.556936</td>\n",
       "      <td>0.716136</td>\n",
       "      <td>0.850977</td>\n",
       "      <td>0.183027</td>\n",
       "      <td>-0.261477</td>\n",
       "      <td>0.691765</td>\n",
       "      <td>-0.086761</td>\n",
       "      <td>0.693135</td>\n",
       "      <td>0.744983</td>\n",
       "      <td>-0.202694</td>\n",
       "      <td>0.250744</td>\n",
       "      <td>0.228082</td>\n",
       "      <td>0.407217</td>\n",
       "      <td>-0.081629</td>\n",
       "      <td>-0.005523</td>\n",
       "      <td>0.969476</td>\n",
       "      <td>0.303038</td>\n",
       "      <td>0.970387</td>\n",
       "      <td>0.941550</td>\n",
       "      <td>0.150549</td>\n",
       "      <td>0.455774</td>\n",
       "      <td>0.563879</td>\n",
       "      <td>0.771241</td>\n",
       "      <td>0.189115</td>\n",
       "      <td>0.051019</td>\n",
       "    </tr>\n",
       "    <tr>\n",
       "      <th>area_mean</th>\n",
       "      <td>0.096893</td>\n",
       "      <td>0.708984</td>\n",
       "      <td>0.987357</td>\n",
       "      <td>0.321086</td>\n",
       "      <td>0.986507</td>\n",
       "      <td>1.000000</td>\n",
       "      <td>0.177028</td>\n",
       "      <td>0.498502</td>\n",
       "      <td>0.685983</td>\n",
       "      <td>0.823269</td>\n",
       "      <td>0.151293</td>\n",
       "      <td>-0.283110</td>\n",
       "      <td>0.732562</td>\n",
       "      <td>-0.066280</td>\n",
       "      <td>0.726628</td>\n",
       "      <td>0.800086</td>\n",
       "      <td>-0.166777</td>\n",
       "      <td>0.212583</td>\n",
       "      <td>0.207660</td>\n",
       "      <td>0.372320</td>\n",
       "      <td>-0.072497</td>\n",
       "      <td>-0.019887</td>\n",
       "      <td>0.962746</td>\n",
       "      <td>0.287489</td>\n",
       "      <td>0.959120</td>\n",
       "      <td>0.959213</td>\n",
       "      <td>0.123523</td>\n",
       "      <td>0.390410</td>\n",
       "      <td>0.512606</td>\n",
       "      <td>0.722017</td>\n",
       "      <td>0.143570</td>\n",
       "      <td>0.003738</td>\n",
       "    </tr>\n",
       "    <tr>\n",
       "      <th>smoothness_mean</th>\n",
       "      <td>-0.012968</td>\n",
       "      <td>0.358560</td>\n",
       "      <td>0.170581</td>\n",
       "      <td>-0.023389</td>\n",
       "      <td>0.207278</td>\n",
       "      <td>0.177028</td>\n",
       "      <td>1.000000</td>\n",
       "      <td>0.659123</td>\n",
       "      <td>0.521984</td>\n",
       "      <td>0.553695</td>\n",
       "      <td>0.557775</td>\n",
       "      <td>0.584792</td>\n",
       "      <td>0.301467</td>\n",
       "      <td>0.068406</td>\n",
       "      <td>0.296092</td>\n",
       "      <td>0.246552</td>\n",
       "      <td>0.332375</td>\n",
       "      <td>0.318943</td>\n",
       "      <td>0.248396</td>\n",
       "      <td>0.380676</td>\n",
       "      <td>0.200774</td>\n",
       "      <td>0.283607</td>\n",
       "      <td>0.213120</td>\n",
       "      <td>0.036072</td>\n",
       "      <td>0.238853</td>\n",
       "      <td>0.206718</td>\n",
       "      <td>0.805324</td>\n",
       "      <td>0.472468</td>\n",
       "      <td>0.434926</td>\n",
       "      <td>0.503053</td>\n",
       "      <td>0.394309</td>\n",
       "      <td>0.499316</td>\n",
       "    </tr>\n",
       "    <tr>\n",
       "      <th>compactness_mean</th>\n",
       "      <td>0.000096</td>\n",
       "      <td>0.596534</td>\n",
       "      <td>0.506124</td>\n",
       "      <td>0.236702</td>\n",
       "      <td>0.556936</td>\n",
       "      <td>0.498502</td>\n",
       "      <td>0.659123</td>\n",
       "      <td>1.000000</td>\n",
       "      <td>0.883121</td>\n",
       "      <td>0.831135</td>\n",
       "      <td>0.602641</td>\n",
       "      <td>0.565369</td>\n",
       "      <td>0.497473</td>\n",
       "      <td>0.046205</td>\n",
       "      <td>0.548905</td>\n",
       "      <td>0.455653</td>\n",
       "      <td>0.135299</td>\n",
       "      <td>0.738722</td>\n",
       "      <td>0.570517</td>\n",
       "      <td>0.642262</td>\n",
       "      <td>0.229977</td>\n",
       "      <td>0.507318</td>\n",
       "      <td>0.535315</td>\n",
       "      <td>0.248133</td>\n",
       "      <td>0.590210</td>\n",
       "      <td>0.509604</td>\n",
       "      <td>0.565541</td>\n",
       "      <td>0.865809</td>\n",
       "      <td>0.816275</td>\n",
       "      <td>0.815573</td>\n",
       "      <td>0.510223</td>\n",
       "      <td>0.687382</td>\n",
       "    </tr>\n",
       "    <tr>\n",
       "      <th>concavity_mean</th>\n",
       "      <td>0.050080</td>\n",
       "      <td>0.696360</td>\n",
       "      <td>0.676764</td>\n",
       "      <td>0.302418</td>\n",
       "      <td>0.716136</td>\n",
       "      <td>0.685983</td>\n",
       "      <td>0.521984</td>\n",
       "      <td>0.883121</td>\n",
       "      <td>1.000000</td>\n",
       "      <td>0.921391</td>\n",
       "      <td>0.500667</td>\n",
       "      <td>0.336783</td>\n",
       "      <td>0.631925</td>\n",
       "      <td>0.076218</td>\n",
       "      <td>0.660391</td>\n",
       "      <td>0.617427</td>\n",
       "      <td>0.098564</td>\n",
       "      <td>0.670279</td>\n",
       "      <td>0.691270</td>\n",
       "      <td>0.683260</td>\n",
       "      <td>0.178009</td>\n",
       "      <td>0.449301</td>\n",
       "      <td>0.688236</td>\n",
       "      <td>0.299879</td>\n",
       "      <td>0.729565</td>\n",
       "      <td>0.675987</td>\n",
       "      <td>0.448822</td>\n",
       "      <td>0.754968</td>\n",
       "      <td>0.884103</td>\n",
       "      <td>0.861323</td>\n",
       "      <td>0.409464</td>\n",
       "      <td>0.514930</td>\n",
       "    </tr>\n",
       "    <tr>\n",
       "      <th>points_mean</th>\n",
       "      <td>0.044158</td>\n",
       "      <td>0.776614</td>\n",
       "      <td>0.822529</td>\n",
       "      <td>0.293464</td>\n",
       "      <td>0.850977</td>\n",
       "      <td>0.823269</td>\n",
       "      <td>0.553695</td>\n",
       "      <td>0.831135</td>\n",
       "      <td>0.921391</td>\n",
       "      <td>1.000000</td>\n",
       "      <td>0.462497</td>\n",
       "      <td>0.166917</td>\n",
       "      <td>0.698050</td>\n",
       "      <td>0.021480</td>\n",
       "      <td>0.710650</td>\n",
       "      <td>0.690299</td>\n",
       "      <td>0.027653</td>\n",
       "      <td>0.490424</td>\n",
       "      <td>0.439167</td>\n",
       "      <td>0.615634</td>\n",
       "      <td>0.095351</td>\n",
       "      <td>0.257584</td>\n",
       "      <td>0.830318</td>\n",
       "      <td>0.292752</td>\n",
       "      <td>0.855923</td>\n",
       "      <td>0.809630</td>\n",
       "      <td>0.452753</td>\n",
       "      <td>0.667454</td>\n",
       "      <td>0.752399</td>\n",
       "      <td>0.910155</td>\n",
       "      <td>0.375744</td>\n",
       "      <td>0.368661</td>\n",
       "    </tr>\n",
       "    <tr>\n",
       "      <th>symmetry_mean</th>\n",
       "      <td>-0.022114</td>\n",
       "      <td>0.330499</td>\n",
       "      <td>0.147741</td>\n",
       "      <td>0.071401</td>\n",
       "      <td>0.183027</td>\n",
       "      <td>0.151293</td>\n",
       "      <td>0.557775</td>\n",
       "      <td>0.602641</td>\n",
       "      <td>0.500667</td>\n",
       "      <td>0.462497</td>\n",
       "      <td>1.000000</td>\n",
       "      <td>0.479921</td>\n",
       "      <td>0.303379</td>\n",
       "      <td>0.128053</td>\n",
       "      <td>0.313893</td>\n",
       "      <td>0.223970</td>\n",
       "      <td>0.187321</td>\n",
       "      <td>0.421659</td>\n",
       "      <td>0.342627</td>\n",
       "      <td>0.393298</td>\n",
       "      <td>0.449137</td>\n",
       "      <td>0.331786</td>\n",
       "      <td>0.185728</td>\n",
       "      <td>0.090651</td>\n",
       "      <td>0.219169</td>\n",
       "      <td>0.177193</td>\n",
       "      <td>0.426675</td>\n",
       "      <td>0.473200</td>\n",
       "      <td>0.433721</td>\n",
       "      <td>0.430297</td>\n",
       "      <td>0.699826</td>\n",
       "      <td>0.438413</td>\n",
       "    </tr>\n",
       "    <tr>\n",
       "      <th>dimension_mean</th>\n",
       "      <td>-0.052511</td>\n",
       "      <td>-0.012838</td>\n",
       "      <td>-0.311631</td>\n",
       "      <td>-0.076437</td>\n",
       "      <td>-0.261477</td>\n",
       "      <td>-0.283110</td>\n",
       "      <td>0.584792</td>\n",
       "      <td>0.565369</td>\n",
       "      <td>0.336783</td>\n",
       "      <td>0.166917</td>\n",
       "      <td>0.479921</td>\n",
       "      <td>1.000000</td>\n",
       "      <td>0.000111</td>\n",
       "      <td>0.164174</td>\n",
       "      <td>0.039830</td>\n",
       "      <td>-0.090170</td>\n",
       "      <td>0.401964</td>\n",
       "      <td>0.559837</td>\n",
       "      <td>0.446630</td>\n",
       "      <td>0.341198</td>\n",
       "      <td>0.345007</td>\n",
       "      <td>0.688132</td>\n",
       "      <td>-0.253691</td>\n",
       "      <td>-0.051269</td>\n",
       "      <td>-0.205151</td>\n",
       "      <td>-0.231854</td>\n",
       "      <td>0.504942</td>\n",
       "      <td>0.458798</td>\n",
       "      <td>0.346234</td>\n",
       "      <td>0.175325</td>\n",
       "      <td>0.334019</td>\n",
       "      <td>0.767297</td>\n",
       "    </tr>\n",
       "    <tr>\n",
       "      <th>radius_se</th>\n",
       "      <td>0.143048</td>\n",
       "      <td>0.567134</td>\n",
       "      <td>0.679090</td>\n",
       "      <td>0.275869</td>\n",
       "      <td>0.691765</td>\n",
       "      <td>0.732562</td>\n",
       "      <td>0.301467</td>\n",
       "      <td>0.497473</td>\n",
       "      <td>0.631925</td>\n",
       "      <td>0.698050</td>\n",
       "      <td>0.303379</td>\n",
       "      <td>0.000111</td>\n",
       "      <td>1.000000</td>\n",
       "      <td>0.213247</td>\n",
       "      <td>0.972794</td>\n",
       "      <td>0.951830</td>\n",
       "      <td>0.164514</td>\n",
       "      <td>0.356065</td>\n",
       "      <td>0.332358</td>\n",
       "      <td>0.513346</td>\n",
       "      <td>0.240567</td>\n",
       "      <td>0.227754</td>\n",
       "      <td>0.715065</td>\n",
       "      <td>0.194799</td>\n",
       "      <td>0.719684</td>\n",
       "      <td>0.751548</td>\n",
       "      <td>0.141919</td>\n",
       "      <td>0.287103</td>\n",
       "      <td>0.380585</td>\n",
       "      <td>0.531062</td>\n",
       "      <td>0.094543</td>\n",
       "      <td>0.049559</td>\n",
       "    </tr>\n",
       "    <tr>\n",
       "      <th>texture_se</th>\n",
       "      <td>-0.007526</td>\n",
       "      <td>-0.008303</td>\n",
       "      <td>-0.097317</td>\n",
       "      <td>0.386358</td>\n",
       "      <td>-0.086761</td>\n",
       "      <td>-0.066280</td>\n",
       "      <td>0.068406</td>\n",
       "      <td>0.046205</td>\n",
       "      <td>0.076218</td>\n",
       "      <td>0.021480</td>\n",
       "      <td>0.128053</td>\n",
       "      <td>0.164174</td>\n",
       "      <td>0.213247</td>\n",
       "      <td>1.000000</td>\n",
       "      <td>0.223171</td>\n",
       "      <td>0.111567</td>\n",
       "      <td>0.397243</td>\n",
       "      <td>0.231700</td>\n",
       "      <td>0.194998</td>\n",
       "      <td>0.230283</td>\n",
       "      <td>0.411621</td>\n",
       "      <td>0.279723</td>\n",
       "      <td>-0.111690</td>\n",
       "      <td>0.409003</td>\n",
       "      <td>-0.102242</td>\n",
       "      <td>-0.083195</td>\n",
       "      <td>-0.073658</td>\n",
       "      <td>-0.092439</td>\n",
       "      <td>-0.068956</td>\n",
       "      <td>-0.119638</td>\n",
       "      <td>-0.128215</td>\n",
       "      <td>-0.045655</td>\n",
       "    </tr>\n",
       "    <tr>\n",
       "      <th>perimeter_se</th>\n",
       "      <td>0.137331</td>\n",
       "      <td>0.556141</td>\n",
       "      <td>0.674172</td>\n",
       "      <td>0.281673</td>\n",
       "      <td>0.693135</td>\n",
       "      <td>0.726628</td>\n",
       "      <td>0.296092</td>\n",
       "      <td>0.548905</td>\n",
       "      <td>0.660391</td>\n",
       "      <td>0.710650</td>\n",
       "      <td>0.313893</td>\n",
       "      <td>0.039830</td>\n",
       "      <td>0.972794</td>\n",
       "      <td>0.223171</td>\n",
       "      <td>1.000000</td>\n",
       "      <td>0.937655</td>\n",
       "      <td>0.151075</td>\n",
       "      <td>0.416322</td>\n",
       "      <td>0.362482</td>\n",
       "      <td>0.556264</td>\n",
       "      <td>0.266487</td>\n",
       "      <td>0.244143</td>\n",
       "      <td>0.697201</td>\n",
       "      <td>0.200371</td>\n",
       "      <td>0.721031</td>\n",
       "      <td>0.730713</td>\n",
       "      <td>0.130054</td>\n",
       "      <td>0.341919</td>\n",
       "      <td>0.418899</td>\n",
       "      <td>0.554897</td>\n",
       "      <td>0.109930</td>\n",
       "      <td>0.085433</td>\n",
       "    </tr>\n",
       "    <tr>\n",
       "      <th>area_se</th>\n",
       "      <td>0.177742</td>\n",
       "      <td>0.548236</td>\n",
       "      <td>0.735864</td>\n",
       "      <td>0.259845</td>\n",
       "      <td>0.744983</td>\n",
       "      <td>0.800086</td>\n",
       "      <td>0.246552</td>\n",
       "      <td>0.455653</td>\n",
       "      <td>0.617427</td>\n",
       "      <td>0.690299</td>\n",
       "      <td>0.223970</td>\n",
       "      <td>-0.090170</td>\n",
       "      <td>0.951830</td>\n",
       "      <td>0.111567</td>\n",
       "      <td>0.937655</td>\n",
       "      <td>1.000000</td>\n",
       "      <td>0.075150</td>\n",
       "      <td>0.284840</td>\n",
       "      <td>0.270895</td>\n",
       "      <td>0.415730</td>\n",
       "      <td>0.134109</td>\n",
       "      <td>0.127071</td>\n",
       "      <td>0.757373</td>\n",
       "      <td>0.196497</td>\n",
       "      <td>0.761213</td>\n",
       "      <td>0.811408</td>\n",
       "      <td>0.125389</td>\n",
       "      <td>0.283257</td>\n",
       "      <td>0.385100</td>\n",
       "      <td>0.538166</td>\n",
       "      <td>0.074126</td>\n",
       "      <td>0.017539</td>\n",
       "    </tr>\n",
       "    <tr>\n",
       "      <th>smoothness_se</th>\n",
       "      <td>0.096781</td>\n",
       "      <td>-0.067016</td>\n",
       "      <td>-0.222600</td>\n",
       "      <td>0.006614</td>\n",
       "      <td>-0.202694</td>\n",
       "      <td>-0.166777</td>\n",
       "      <td>0.332375</td>\n",
       "      <td>0.135299</td>\n",
       "      <td>0.098564</td>\n",
       "      <td>0.027653</td>\n",
       "      <td>0.187321</td>\n",
       "      <td>0.401964</td>\n",
       "      <td>0.164514</td>\n",
       "      <td>0.397243</td>\n",
       "      <td>0.151075</td>\n",
       "      <td>0.075150</td>\n",
       "      <td>1.000000</td>\n",
       "      <td>0.336696</td>\n",
       "      <td>0.268685</td>\n",
       "      <td>0.328429</td>\n",
       "      <td>0.413506</td>\n",
       "      <td>0.427374</td>\n",
       "      <td>-0.230691</td>\n",
       "      <td>-0.074743</td>\n",
       "      <td>-0.217304</td>\n",
       "      <td>-0.182195</td>\n",
       "      <td>0.314457</td>\n",
       "      <td>-0.055558</td>\n",
       "      <td>-0.058298</td>\n",
       "      <td>-0.102007</td>\n",
       "      <td>-0.107342</td>\n",
       "      <td>0.101480</td>\n",
       "    </tr>\n",
       "    <tr>\n",
       "      <th>compactness_se</th>\n",
       "      <td>0.033961</td>\n",
       "      <td>0.292999</td>\n",
       "      <td>0.206000</td>\n",
       "      <td>0.191975</td>\n",
       "      <td>0.250744</td>\n",
       "      <td>0.212583</td>\n",
       "      <td>0.318943</td>\n",
       "      <td>0.738722</td>\n",
       "      <td>0.670279</td>\n",
       "      <td>0.490424</td>\n",
       "      <td>0.421659</td>\n",
       "      <td>0.559837</td>\n",
       "      <td>0.356065</td>\n",
       "      <td>0.231700</td>\n",
       "      <td>0.416322</td>\n",
       "      <td>0.284840</td>\n",
       "      <td>0.336696</td>\n",
       "      <td>1.000000</td>\n",
       "      <td>0.801268</td>\n",
       "      <td>0.744083</td>\n",
       "      <td>0.394713</td>\n",
       "      <td>0.803269</td>\n",
       "      <td>0.204607</td>\n",
       "      <td>0.143003</td>\n",
       "      <td>0.260516</td>\n",
       "      <td>0.199371</td>\n",
       "      <td>0.227394</td>\n",
       "      <td>0.678780</td>\n",
       "      <td>0.639147</td>\n",
       "      <td>0.483208</td>\n",
       "      <td>0.277878</td>\n",
       "      <td>0.590973</td>\n",
       "    </tr>\n",
       "    <tr>\n",
       "      <th>concavity_se</th>\n",
       "      <td>0.055239</td>\n",
       "      <td>0.253730</td>\n",
       "      <td>0.194204</td>\n",
       "      <td>0.143293</td>\n",
       "      <td>0.228082</td>\n",
       "      <td>0.207660</td>\n",
       "      <td>0.248396</td>\n",
       "      <td>0.570517</td>\n",
       "      <td>0.691270</td>\n",
       "      <td>0.439167</td>\n",
       "      <td>0.342627</td>\n",
       "      <td>0.446630</td>\n",
       "      <td>0.332358</td>\n",
       "      <td>0.194998</td>\n",
       "      <td>0.362482</td>\n",
       "      <td>0.270895</td>\n",
       "      <td>0.268685</td>\n",
       "      <td>0.801268</td>\n",
       "      <td>1.000000</td>\n",
       "      <td>0.771804</td>\n",
       "      <td>0.309429</td>\n",
       "      <td>0.727372</td>\n",
       "      <td>0.186904</td>\n",
       "      <td>0.100241</td>\n",
       "      <td>0.226680</td>\n",
       "      <td>0.188353</td>\n",
       "      <td>0.168481</td>\n",
       "      <td>0.484858</td>\n",
       "      <td>0.662564</td>\n",
       "      <td>0.440472</td>\n",
       "      <td>0.197788</td>\n",
       "      <td>0.439329</td>\n",
       "    </tr>\n",
       "    <tr>\n",
       "      <th>points_se</th>\n",
       "      <td>0.078768</td>\n",
       "      <td>0.408042</td>\n",
       "      <td>0.376169</td>\n",
       "      <td>0.163851</td>\n",
       "      <td>0.407217</td>\n",
       "      <td>0.372320</td>\n",
       "      <td>0.380676</td>\n",
       "      <td>0.642262</td>\n",
       "      <td>0.683260</td>\n",
       "      <td>0.615634</td>\n",
       "      <td>0.393298</td>\n",
       "      <td>0.341198</td>\n",
       "      <td>0.513346</td>\n",
       "      <td>0.230283</td>\n",
       "      <td>0.556264</td>\n",
       "      <td>0.415730</td>\n",
       "      <td>0.328429</td>\n",
       "      <td>0.744083</td>\n",
       "      <td>0.771804</td>\n",
       "      <td>1.000000</td>\n",
       "      <td>0.312780</td>\n",
       "      <td>0.611044</td>\n",
       "      <td>0.358127</td>\n",
       "      <td>0.086741</td>\n",
       "      <td>0.394999</td>\n",
       "      <td>0.342271</td>\n",
       "      <td>0.215351</td>\n",
       "      <td>0.452888</td>\n",
       "      <td>0.549592</td>\n",
       "      <td>0.602450</td>\n",
       "      <td>0.143116</td>\n",
       "      <td>0.310655</td>\n",
       "    </tr>\n",
       "    <tr>\n",
       "      <th>symmetry_se</th>\n",
       "      <td>-0.017306</td>\n",
       "      <td>-0.006522</td>\n",
       "      <td>-0.104321</td>\n",
       "      <td>0.009127</td>\n",
       "      <td>-0.081629</td>\n",
       "      <td>-0.072497</td>\n",
       "      <td>0.200774</td>\n",
       "      <td>0.229977</td>\n",
       "      <td>0.178009</td>\n",
       "      <td>0.095351</td>\n",
       "      <td>0.449137</td>\n",
       "      <td>0.345007</td>\n",
       "      <td>0.240567</td>\n",
       "      <td>0.411621</td>\n",
       "      <td>0.266487</td>\n",
       "      <td>0.134109</td>\n",
       "      <td>0.413506</td>\n",
       "      <td>0.394713</td>\n",
       "      <td>0.309429</td>\n",
       "      <td>0.312780</td>\n",
       "      <td>1.000000</td>\n",
       "      <td>0.369078</td>\n",
       "      <td>-0.128121</td>\n",
       "      <td>-0.077473</td>\n",
       "      <td>-0.103753</td>\n",
       "      <td>-0.110343</td>\n",
       "      <td>-0.012662</td>\n",
       "      <td>0.060255</td>\n",
       "      <td>0.037119</td>\n",
       "      <td>-0.030413</td>\n",
       "      <td>0.389402</td>\n",
       "      <td>0.078079</td>\n",
       "    </tr>\n",
       "    <tr>\n",
       "      <th>dimension_se</th>\n",
       "      <td>0.025725</td>\n",
       "      <td>0.077972</td>\n",
       "      <td>-0.042641</td>\n",
       "      <td>0.054458</td>\n",
       "      <td>-0.005523</td>\n",
       "      <td>-0.019887</td>\n",
       "      <td>0.283607</td>\n",
       "      <td>0.507318</td>\n",
       "      <td>0.449301</td>\n",
       "      <td>0.257584</td>\n",
       "      <td>0.331786</td>\n",
       "      <td>0.688132</td>\n",
       "      <td>0.227754</td>\n",
       "      <td>0.279723</td>\n",
       "      <td>0.244143</td>\n",
       "      <td>0.127071</td>\n",
       "      <td>0.427374</td>\n",
       "      <td>0.803269</td>\n",
       "      <td>0.727372</td>\n",
       "      <td>0.611044</td>\n",
       "      <td>0.369078</td>\n",
       "      <td>1.000000</td>\n",
       "      <td>-0.037488</td>\n",
       "      <td>-0.003195</td>\n",
       "      <td>-0.001000</td>\n",
       "      <td>-0.022736</td>\n",
       "      <td>0.170568</td>\n",
       "      <td>0.390159</td>\n",
       "      <td>0.379975</td>\n",
       "      <td>0.215204</td>\n",
       "      <td>0.111094</td>\n",
       "      <td>0.591328</td>\n",
       "    </tr>\n",
       "    <tr>\n",
       "      <th>radius_worst</th>\n",
       "      <td>0.082405</td>\n",
       "      <td>0.776454</td>\n",
       "      <td>0.969539</td>\n",
       "      <td>0.352573</td>\n",
       "      <td>0.969476</td>\n",
       "      <td>0.962746</td>\n",
       "      <td>0.213120</td>\n",
       "      <td>0.535315</td>\n",
       "      <td>0.688236</td>\n",
       "      <td>0.830318</td>\n",
       "      <td>0.185728</td>\n",
       "      <td>-0.253691</td>\n",
       "      <td>0.715065</td>\n",
       "      <td>-0.111690</td>\n",
       "      <td>0.697201</td>\n",
       "      <td>0.757373</td>\n",
       "      <td>-0.230691</td>\n",
       "      <td>0.204607</td>\n",
       "      <td>0.186904</td>\n",
       "      <td>0.358127</td>\n",
       "      <td>-0.128121</td>\n",
       "      <td>-0.037488</td>\n",
       "      <td>1.000000</td>\n",
       "      <td>0.359921</td>\n",
       "      <td>0.993708</td>\n",
       "      <td>0.984015</td>\n",
       "      <td>0.216574</td>\n",
       "      <td>0.475820</td>\n",
       "      <td>0.573975</td>\n",
       "      <td>0.787424</td>\n",
       "      <td>0.243529</td>\n",
       "      <td>0.093492</td>\n",
       "    </tr>\n",
       "    <tr>\n",
       "      <th>texture_worst</th>\n",
       "      <td>0.064720</td>\n",
       "      <td>0.456903</td>\n",
       "      <td>0.297008</td>\n",
       "      <td>0.912045</td>\n",
       "      <td>0.303038</td>\n",
       "      <td>0.287489</td>\n",
       "      <td>0.036072</td>\n",
       "      <td>0.248133</td>\n",
       "      <td>0.299879</td>\n",
       "      <td>0.292752</td>\n",
       "      <td>0.090651</td>\n",
       "      <td>-0.051269</td>\n",
       "      <td>0.194799</td>\n",
       "      <td>0.409003</td>\n",
       "      <td>0.200371</td>\n",
       "      <td>0.196497</td>\n",
       "      <td>-0.074743</td>\n",
       "      <td>0.143003</td>\n",
       "      <td>0.100241</td>\n",
       "      <td>0.086741</td>\n",
       "      <td>-0.077473</td>\n",
       "      <td>-0.003195</td>\n",
       "      <td>0.359921</td>\n",
       "      <td>1.000000</td>\n",
       "      <td>0.365098</td>\n",
       "      <td>0.345842</td>\n",
       "      <td>0.225429</td>\n",
       "      <td>0.360832</td>\n",
       "      <td>0.368366</td>\n",
       "      <td>0.359755</td>\n",
       "      <td>0.233027</td>\n",
       "      <td>0.219122</td>\n",
       "    </tr>\n",
       "    <tr>\n",
       "      <th>perimeter_worst</th>\n",
       "      <td>0.079986</td>\n",
       "      <td>0.782914</td>\n",
       "      <td>0.965137</td>\n",
       "      <td>0.358040</td>\n",
       "      <td>0.970387</td>\n",
       "      <td>0.959120</td>\n",
       "      <td>0.238853</td>\n",
       "      <td>0.590210</td>\n",
       "      <td>0.729565</td>\n",
       "      <td>0.855923</td>\n",
       "      <td>0.219169</td>\n",
       "      <td>-0.205151</td>\n",
       "      <td>0.719684</td>\n",
       "      <td>-0.102242</td>\n",
       "      <td>0.721031</td>\n",
       "      <td>0.761213</td>\n",
       "      <td>-0.217304</td>\n",
       "      <td>0.260516</td>\n",
       "      <td>0.226680</td>\n",
       "      <td>0.394999</td>\n",
       "      <td>-0.103753</td>\n",
       "      <td>-0.001000</td>\n",
       "      <td>0.993708</td>\n",
       "      <td>0.365098</td>\n",
       "      <td>1.000000</td>\n",
       "      <td>0.977578</td>\n",
       "      <td>0.236775</td>\n",
       "      <td>0.529408</td>\n",
       "      <td>0.618344</td>\n",
       "      <td>0.816322</td>\n",
       "      <td>0.269493</td>\n",
       "      <td>0.138957</td>\n",
       "    </tr>\n",
       "    <tr>\n",
       "      <th>area_worst</th>\n",
       "      <td>0.107187</td>\n",
       "      <td>0.733825</td>\n",
       "      <td>0.941082</td>\n",
       "      <td>0.343546</td>\n",
       "      <td>0.941550</td>\n",
       "      <td>0.959213</td>\n",
       "      <td>0.206718</td>\n",
       "      <td>0.509604</td>\n",
       "      <td>0.675987</td>\n",
       "      <td>0.809630</td>\n",
       "      <td>0.177193</td>\n",
       "      <td>-0.231854</td>\n",
       "      <td>0.751548</td>\n",
       "      <td>-0.083195</td>\n",
       "      <td>0.730713</td>\n",
       "      <td>0.811408</td>\n",
       "      <td>-0.182195</td>\n",
       "      <td>0.199371</td>\n",
       "      <td>0.188353</td>\n",
       "      <td>0.342271</td>\n",
       "      <td>-0.110343</td>\n",
       "      <td>-0.022736</td>\n",
       "      <td>0.984015</td>\n",
       "      <td>0.345842</td>\n",
       "      <td>0.977578</td>\n",
       "      <td>1.000000</td>\n",
       "      <td>0.209145</td>\n",
       "      <td>0.438296</td>\n",
       "      <td>0.543331</td>\n",
       "      <td>0.747419</td>\n",
       "      <td>0.209146</td>\n",
       "      <td>0.079647</td>\n",
       "    </tr>\n",
       "    <tr>\n",
       "      <th>smoothness_worst</th>\n",
       "      <td>0.010338</td>\n",
       "      <td>0.421465</td>\n",
       "      <td>0.119616</td>\n",
       "      <td>0.077503</td>\n",
       "      <td>0.150549</td>\n",
       "      <td>0.123523</td>\n",
       "      <td>0.805324</td>\n",
       "      <td>0.565541</td>\n",
       "      <td>0.448822</td>\n",
       "      <td>0.452753</td>\n",
       "      <td>0.426675</td>\n",
       "      <td>0.504942</td>\n",
       "      <td>0.141919</td>\n",
       "      <td>-0.073658</td>\n",
       "      <td>0.130054</td>\n",
       "      <td>0.125389</td>\n",
       "      <td>0.314457</td>\n",
       "      <td>0.227394</td>\n",
       "      <td>0.168481</td>\n",
       "      <td>0.215351</td>\n",
       "      <td>-0.012662</td>\n",
       "      <td>0.170568</td>\n",
       "      <td>0.216574</td>\n",
       "      <td>0.225429</td>\n",
       "      <td>0.236775</td>\n",
       "      <td>0.209145</td>\n",
       "      <td>1.000000</td>\n",
       "      <td>0.568187</td>\n",
       "      <td>0.518523</td>\n",
       "      <td>0.547691</td>\n",
       "      <td>0.493838</td>\n",
       "      <td>0.617624</td>\n",
       "    </tr>\n",
       "    <tr>\n",
       "      <th>compactness_worst</th>\n",
       "      <td>-0.002968</td>\n",
       "      <td>0.590998</td>\n",
       "      <td>0.413463</td>\n",
       "      <td>0.277830</td>\n",
       "      <td>0.455774</td>\n",
       "      <td>0.390410</td>\n",
       "      <td>0.472468</td>\n",
       "      <td>0.865809</td>\n",
       "      <td>0.754968</td>\n",
       "      <td>0.667454</td>\n",
       "      <td>0.473200</td>\n",
       "      <td>0.458798</td>\n",
       "      <td>0.287103</td>\n",
       "      <td>-0.092439</td>\n",
       "      <td>0.341919</td>\n",
       "      <td>0.283257</td>\n",
       "      <td>-0.055558</td>\n",
       "      <td>0.678780</td>\n",
       "      <td>0.484858</td>\n",
       "      <td>0.452888</td>\n",
       "      <td>0.060255</td>\n",
       "      <td>0.390159</td>\n",
       "      <td>0.475820</td>\n",
       "      <td>0.360832</td>\n",
       "      <td>0.529408</td>\n",
       "      <td>0.438296</td>\n",
       "      <td>0.568187</td>\n",
       "      <td>1.000000</td>\n",
       "      <td>0.892261</td>\n",
       "      <td>0.801080</td>\n",
       "      <td>0.614441</td>\n",
       "      <td>0.810455</td>\n",
       "    </tr>\n",
       "    <tr>\n",
       "      <th>concavity_worst</th>\n",
       "      <td>0.023203</td>\n",
       "      <td>0.659610</td>\n",
       "      <td>0.526911</td>\n",
       "      <td>0.301025</td>\n",
       "      <td>0.563879</td>\n",
       "      <td>0.512606</td>\n",
       "      <td>0.434926</td>\n",
       "      <td>0.816275</td>\n",
       "      <td>0.884103</td>\n",
       "      <td>0.752399</td>\n",
       "      <td>0.433721</td>\n",
       "      <td>0.346234</td>\n",
       "      <td>0.380585</td>\n",
       "      <td>-0.068956</td>\n",
       "      <td>0.418899</td>\n",
       "      <td>0.385100</td>\n",
       "      <td>-0.058298</td>\n",
       "      <td>0.639147</td>\n",
       "      <td>0.662564</td>\n",
       "      <td>0.549592</td>\n",
       "      <td>0.037119</td>\n",
       "      <td>0.379975</td>\n",
       "      <td>0.573975</td>\n",
       "      <td>0.368366</td>\n",
       "      <td>0.618344</td>\n",
       "      <td>0.543331</td>\n",
       "      <td>0.518523</td>\n",
       "      <td>0.892261</td>\n",
       "      <td>1.000000</td>\n",
       "      <td>0.855434</td>\n",
       "      <td>0.532520</td>\n",
       "      <td>0.686511</td>\n",
       "    </tr>\n",
       "    <tr>\n",
       "      <th>points_worst</th>\n",
       "      <td>0.035174</td>\n",
       "      <td>0.793566</td>\n",
       "      <td>0.744214</td>\n",
       "      <td>0.295316</td>\n",
       "      <td>0.771241</td>\n",
       "      <td>0.722017</td>\n",
       "      <td>0.503053</td>\n",
       "      <td>0.815573</td>\n",
       "      <td>0.861323</td>\n",
       "      <td>0.910155</td>\n",
       "      <td>0.430297</td>\n",
       "      <td>0.175325</td>\n",
       "      <td>0.531062</td>\n",
       "      <td>-0.119638</td>\n",
       "      <td>0.554897</td>\n",
       "      <td>0.538166</td>\n",
       "      <td>-0.102007</td>\n",
       "      <td>0.483208</td>\n",
       "      <td>0.440472</td>\n",
       "      <td>0.602450</td>\n",
       "      <td>-0.030413</td>\n",
       "      <td>0.215204</td>\n",
       "      <td>0.787424</td>\n",
       "      <td>0.359755</td>\n",
       "      <td>0.816322</td>\n",
       "      <td>0.747419</td>\n",
       "      <td>0.547691</td>\n",
       "      <td>0.801080</td>\n",
       "      <td>0.855434</td>\n",
       "      <td>1.000000</td>\n",
       "      <td>0.502528</td>\n",
       "      <td>0.511114</td>\n",
       "    </tr>\n",
       "    <tr>\n",
       "      <th>symmetry_worst</th>\n",
       "      <td>-0.044224</td>\n",
       "      <td>0.416294</td>\n",
       "      <td>0.163953</td>\n",
       "      <td>0.105008</td>\n",
       "      <td>0.189115</td>\n",
       "      <td>0.143570</td>\n",
       "      <td>0.394309</td>\n",
       "      <td>0.510223</td>\n",
       "      <td>0.409464</td>\n",
       "      <td>0.375744</td>\n",
       "      <td>0.699826</td>\n",
       "      <td>0.334019</td>\n",
       "      <td>0.094543</td>\n",
       "      <td>-0.128215</td>\n",
       "      <td>0.109930</td>\n",
       "      <td>0.074126</td>\n",
       "      <td>-0.107342</td>\n",
       "      <td>0.277878</td>\n",
       "      <td>0.197788</td>\n",
       "      <td>0.143116</td>\n",
       "      <td>0.389402</td>\n",
       "      <td>0.111094</td>\n",
       "      <td>0.243529</td>\n",
       "      <td>0.233027</td>\n",
       "      <td>0.269493</td>\n",
       "      <td>0.209146</td>\n",
       "      <td>0.493838</td>\n",
       "      <td>0.614441</td>\n",
       "      <td>0.532520</td>\n",
       "      <td>0.502528</td>\n",
       "      <td>1.000000</td>\n",
       "      <td>0.537848</td>\n",
       "    </tr>\n",
       "    <tr>\n",
       "      <th>dimension_worst</th>\n",
       "      <td>-0.029866</td>\n",
       "      <td>0.323872</td>\n",
       "      <td>0.007066</td>\n",
       "      <td>0.119205</td>\n",
       "      <td>0.051019</td>\n",
       "      <td>0.003738</td>\n",
       "      <td>0.499316</td>\n",
       "      <td>0.687382</td>\n",
       "      <td>0.514930</td>\n",
       "      <td>0.368661</td>\n",
       "      <td>0.438413</td>\n",
       "      <td>0.767297</td>\n",
       "      <td>0.049559</td>\n",
       "      <td>-0.045655</td>\n",
       "      <td>0.085433</td>\n",
       "      <td>0.017539</td>\n",
       "      <td>0.101480</td>\n",
       "      <td>0.590973</td>\n",
       "      <td>0.439329</td>\n",
       "      <td>0.310655</td>\n",
       "      <td>0.078079</td>\n",
       "      <td>0.591328</td>\n",
       "      <td>0.093492</td>\n",
       "      <td>0.219122</td>\n",
       "      <td>0.138957</td>\n",
       "      <td>0.079647</td>\n",
       "      <td>0.617624</td>\n",
       "      <td>0.810455</td>\n",
       "      <td>0.686511</td>\n",
       "      <td>0.511114</td>\n",
       "      <td>0.537848</td>\n",
       "      <td>1.000000</td>\n",
       "    </tr>\n",
       "  </tbody>\n",
       "</table>\n",
       "</div>"
      ],
      "text/plain": [
       "                         id  diagnosis  ...  symmetry_worst  dimension_worst\n",
       "id                 1.000000   0.039769  ...       -0.044224        -0.029866\n",
       "diagnosis          0.039769   1.000000  ...        0.416294         0.323872\n",
       "radius_mean        0.074626   0.730029  ...        0.163953         0.007066\n",
       "texture_mean       0.099770   0.415185  ...        0.105008         0.119205\n",
       "perimeter_mean     0.073159   0.742636  ...        0.189115         0.051019\n",
       "area_mean          0.096893   0.708984  ...        0.143570         0.003738\n",
       "smoothness_mean   -0.012968   0.358560  ...        0.394309         0.499316\n",
       "compactness_mean   0.000096   0.596534  ...        0.510223         0.687382\n",
       "concavity_mean     0.050080   0.696360  ...        0.409464         0.514930\n",
       "points_mean        0.044158   0.776614  ...        0.375744         0.368661\n",
       "symmetry_mean     -0.022114   0.330499  ...        0.699826         0.438413\n",
       "dimension_mean    -0.052511  -0.012838  ...        0.334019         0.767297\n",
       "radius_se          0.143048   0.567134  ...        0.094543         0.049559\n",
       "texture_se        -0.007526  -0.008303  ...       -0.128215        -0.045655\n",
       "perimeter_se       0.137331   0.556141  ...        0.109930         0.085433\n",
       "area_se            0.177742   0.548236  ...        0.074126         0.017539\n",
       "smoothness_se      0.096781  -0.067016  ...       -0.107342         0.101480\n",
       "compactness_se     0.033961   0.292999  ...        0.277878         0.590973\n",
       "concavity_se       0.055239   0.253730  ...        0.197788         0.439329\n",
       "points_se          0.078768   0.408042  ...        0.143116         0.310655\n",
       "symmetry_se       -0.017306  -0.006522  ...        0.389402         0.078079\n",
       "dimension_se       0.025725   0.077972  ...        0.111094         0.591328\n",
       "radius_worst       0.082405   0.776454  ...        0.243529         0.093492\n",
       "texture_worst      0.064720   0.456903  ...        0.233027         0.219122\n",
       "perimeter_worst    0.079986   0.782914  ...        0.269493         0.138957\n",
       "area_worst         0.107187   0.733825  ...        0.209146         0.079647\n",
       "smoothness_worst   0.010338   0.421465  ...        0.493838         0.617624\n",
       "compactness_worst -0.002968   0.590998  ...        0.614441         0.810455\n",
       "concavity_worst    0.023203   0.659610  ...        0.532520         0.686511\n",
       "points_worst       0.035174   0.793566  ...        0.502528         0.511114\n",
       "symmetry_worst    -0.044224   0.416294  ...        1.000000         0.537848\n",
       "dimension_worst   -0.029866   0.323872  ...        0.537848         1.000000\n",
       "\n",
       "[32 rows x 32 columns]"
      ]
     },
     "execution_count": 7,
     "metadata": {
      "tags": []
     },
     "output_type": "execute_result"
    }
   ],
   "source": [
    "A.corr()"
   ]
  },
  {
   "cell_type": "code",
   "execution_count": 0,
   "metadata": {
    "colab": {},
    "colab_type": "code",
    "id": "Q1XQqbdHSqyi"
   },
   "outputs": [],
   "source": [
    "from scipy.stats import ttest_ind"
   ]
  },
  {
   "cell_type": "code",
   "execution_count": 0,
   "metadata": {
    "colab": {},
    "colab_type": "code",
    "id": "cnVu4XBlSvR3"
   },
   "outputs": [],
   "source": [
    "AD=A.groupby('diagnosis')\n",
    "AD_0=AD.get_group(0)\n",
    "AD_1=AD.get_group(1)\n"
   ]
  },
  {
   "cell_type": "code",
   "execution_count": 0,
   "metadata": {
    "colab": {
     "base_uri": "https://localhost:8080/",
     "height": 34
    },
    "colab_type": "code",
    "executionInfo": {
     "elapsed": 1060,
     "status": "ok",
     "timestamp": 1581509458567,
     "user": {
      "displayName": "Mahesh Anand",
      "photoUrl": "https://lh3.googleusercontent.com/a-/AAuE7mDwRqsBffQmzXsc6rHxDVmepWB7mxD_zfhcK5E1=s64",
      "userId": "06788086636039591358"
     },
     "user_tz": -330
    },
    "id": "WSECQvqgTEMS",
    "outputId": "7bfe0f5d-0dc9-472d-aba3-429add706616"
   },
   "outputs": [
    {
     "data": {
      "text/plain": [
       "Ttest_indResult(statistic=0.1552978000059369, pvalue=0.8766418183858812)"
      ]
     },
     "execution_count": 11,
     "metadata": {
      "tags": []
     },
     "output_type": "execute_result"
    }
   ],
   "source": [
    "ttest_ind(AD_0['symmetry_se'],AD_1['symmetry_se'])"
   ]
  },
  {
   "cell_type": "code",
   "execution_count": 0,
   "metadata": {
    "colab": {
     "base_uri": "https://localhost:8080/",
     "height": 34
    },
    "colab_type": "code",
    "executionInfo": {
     "elapsed": 1066,
     "status": "ok",
     "timestamp": 1581509460548,
     "user": {
      "displayName": "Mahesh Anand",
      "photoUrl": "https://lh3.googleusercontent.com/a-/AAuE7mDwRqsBffQmzXsc6rHxDVmepWB7mxD_zfhcK5E1=s64",
      "userId": "06788086636039591358"
     },
     "user_tz": -330
    },
    "id": "xag2ERUNTisr",
    "outputId": "df73042e-32ed-4662-97c1-164e27ad1f2d"
   },
   "outputs": [
    {
     "data": {
      "text/plain": [
       "Ttest_indResult(statistic=0.1977238031013334, pvalue=0.8433320287670163)"
      ]
     },
     "execution_count": 12,
     "metadata": {
      "tags": []
     },
     "output_type": "execute_result"
    }
   ],
   "source": [
    "ttest_ind(AD_0['texture_se'],AD_1['texture_se'])"
   ]
  },
  {
   "cell_type": "code",
   "execution_count": 0,
   "metadata": {
    "colab": {
     "base_uri": "https://localhost:8080/",
     "height": 34
    },
    "colab_type": "code",
    "executionInfo": {
     "elapsed": 1312,
     "status": "ok",
     "timestamp": 1581509538674,
     "user": {
      "displayName": "Mahesh Anand",
      "photoUrl": "https://lh3.googleusercontent.com/a-/AAuE7mDwRqsBffQmzXsc6rHxDVmepWB7mxD_zfhcK5E1=s64",
      "userId": "06788086636039591358"
     },
     "user_tz": -330
    },
    "id": "ICkdOKL1T8mn",
    "outputId": "a9ca2fe0-7a77-4b14-edc4-ce06bdacdc8d"
   },
   "outputs": [
    {
     "data": {
      "text/plain": [
       "Ttest_indResult(statistic=0.3057111297858309, pvalue=0.7599368037256238)"
      ]
     },
     "execution_count": 13,
     "metadata": {
      "tags": []
     },
     "output_type": "execute_result"
    }
   ],
   "source": [
    "ttest_ind(AD_0['dimension_mean'],AD_1['dimension_mean'])"
   ]
  },
  {
   "cell_type": "code",
   "execution_count": 0,
   "metadata": {
    "colab": {
     "base_uri": "https://localhost:8080/",
     "height": 181
    },
    "colab_type": "code",
    "executionInfo": {
     "elapsed": 1431,
     "status": "ok",
     "timestamp": 1574319820891,
     "user": {
      "displayName": "Mahesh Anand",
      "photoUrl": "https://lh3.googleusercontent.com/a-/AAuE7mDwRqsBffQmzXsc6rHxDVmepWB7mxD_zfhcK5E1=s64",
      "userId": "06788086636039591358"
     },
     "user_tz": -330
    },
    "id": "sN2VsDEkk2pT",
    "outputId": "3d1e5489-452f-4b17-8a33-586210babe4f"
   },
   "outputs": [
    {
     "data": {
      "text/plain": [
       "Index(['id', 'diagnosis', 'radius_mean', 'texture_mean', 'perimeter_mean',\n",
       "       'area_mean', 'smoothness_mean', 'compactness_mean', 'concavity_mean',\n",
       "       'points_mean', 'symmetry_mean', 'dimension_mean', 'radius_se',\n",
       "       'texture_se', 'perimeter_se', 'area_se', 'smoothness_se',\n",
       "       'compactness_se', 'concavity_se', 'points_se', 'symmetry_se',\n",
       "       'dimension_se', 'radius_worst', 'texture_worst', 'perimeter_worst',\n",
       "       'area_worst', 'smoothness_worst', 'compactness_worst',\n",
       "       'concavity_worst', 'points_worst', 'symmetry_worst', 'dimension_worst'],\n",
       "      dtype='object')"
      ]
     },
     "execution_count": 29,
     "metadata": {
      "tags": []
     },
     "output_type": "execute_result"
    }
   ],
   "source": [
    "A.columns"
   ]
  },
  {
   "cell_type": "code",
   "execution_count": 0,
   "metadata": {
    "colab": {},
    "colab_type": "code",
    "id": "3RvkuwR6oggC"
   },
   "outputs": [],
   "source": [
    "from scipy.stats import ttest_ind"
   ]
  },
  {
   "cell_type": "code",
   "execution_count": 0,
   "metadata": {
    "colab": {},
    "colab_type": "code",
    "id": "ydrkrdfKqCsA"
   },
   "outputs": [],
   "source": [
    "my_set=['texture_se','dimension_mean','smoothness_se','symmetry_se','dimension_se','symmetry_worst']"
   ]
  },
  {
   "cell_type": "code",
   "execution_count": 0,
   "metadata": {
    "colab": {},
    "colab_type": "code",
    "id": "ZIl9RlulrS7S"
   },
   "outputs": [],
   "source": [
    "AG=A.groupby('diagnosis')"
   ]
  },
  {
   "cell_type": "code",
   "execution_count": 0,
   "metadata": {
    "colab": {},
    "colab_type": "code",
    "id": "EGZIh7ryraWL"
   },
   "outputs": [],
   "source": [
    "AG_B=AG.get_group(0)\n",
    "AG_M=AG.get_group(1)"
   ]
  },
  {
   "cell_type": "code",
   "execution_count": 0,
   "metadata": {
    "colab": {
     "base_uri": "https://localhost:8080/",
     "height": 599
    },
    "colab_type": "code",
    "executionInfo": {
     "elapsed": 1550,
     "status": "ok",
     "timestamp": 1574318675995,
     "user": {
      "displayName": "Mahesh Anand",
      "photoUrl": "https://lh3.googleusercontent.com/a-/AAuE7mDwRqsBffQmzXsc6rHxDVmepWB7mxD_zfhcK5E1=s64",
      "userId": "06788086636039591358"
     },
     "user_tz": -330
    },
    "id": "icIOge8eow2V",
    "outputId": "086b93c0-1803-411e-a6f1-c458d8e5b33f"
   },
   "outputs": [
    {
     "name": "stdout",
     "output_type": "stream",
     "text": [
      "id 0.34368185775951265\n",
      "diagnosis 0.0\n",
      "radius_mean 8.465940572262422e-96\n",
      "texture_mean 4.0586360478980736e-25\n",
      "perimeter_mean 8.43625103617473e-101\n",
      "area_mean 4.734564310307614e-88\n",
      "smoothness_mean 1.0518503592035268e-18\n",
      "compactness_mean 3.938263105886996e-56\n",
      "concavity_mean 9.966555755072396e-84\n",
      "points_mean 7.101150161057422e-116\n",
      "symmetry_mean 5.733384028466827e-16\n",
      "dimension_mean 0.7599368037256238\n",
      "radius_se 9.738948656461507e-50\n",
      "texture_se 0.8433320287670163\n",
      "perimeter_se 1.6519051758498057e-47\n",
      "area_se 5.8955213926058635e-46\n",
      "smoothness_se 0.11029660865789295\n",
      "compactness_se 9.975994654074946e-13\n",
      "concavity_se 8.260176167969961e-10\n",
      "points_se 3.072308768818131e-24\n",
      "symmetry_se 0.8766418183858812\n",
      "dimension_se 0.06307355082239346\n",
      "radius_worst 8.482291921684414e-116\n",
      "texture_worst 1.0780574879493625e-30\n",
      "perimeter_worst 5.771397139670263e-119\n",
      "area_worst 2.828847704286693e-97\n",
      "smoothness_worst 6.575143633984769e-26\n",
      "compactness_worst 7.069816352539082e-55\n",
      "concavity_worst 2.4646639567829224e-72\n",
      "points_worst 1.9690997072164375e-124\n",
      "symmetry_worst 2.951120577154039e-25\n",
      "dimension_worst 2.316432449982829e-15\n"
     ]
    }
   ],
   "source": [
    "for col in A.columns:\n",
    "  p_val=ttest_ind(AG_B[col],AG_M[col])[1]\n",
    "  print(col,p_val)"
   ]
  },
  {
   "cell_type": "code",
   "execution_count": 0,
   "metadata": {
    "colab": {},
    "colab_type": "code",
    "id": "mfhvWVmyk7RY"
   },
   "outputs": [],
   "source": [
    "X=A.drop(['id','diagnosis','texture_se','dimension_se','dimension_mean','smoothness_se','symmetry_se',],axis=1)\n",
    "Y=A['diagnosis']"
   ]
  },
  {
   "cell_type": "code",
   "execution_count": 0,
   "metadata": {
    "colab": {
     "base_uri": "https://localhost:8080/",
     "height": 34
    },
    "colab_type": "code",
    "executionInfo": {
     "elapsed": 1078,
     "status": "ok",
     "timestamp": 1581510842119,
     "user": {
      "displayName": "Mahesh Anand",
      "photoUrl": "https://lh3.googleusercontent.com/a-/AAuE7mDwRqsBffQmzXsc6rHxDVmepWB7mxD_zfhcK5E1=s64",
      "userId": "06788086636039591358"
     },
     "user_tz": -330
    },
    "id": "-a9-hdbQBjyL",
    "outputId": "af44a6a9-c341-4617-f724-25c07698c9c9"
   },
   "outputs": [
    {
     "data": {
      "text/plain": [
       "(569, 25)"
      ]
     },
     "execution_count": 16,
     "metadata": {
      "tags": []
     },
     "output_type": "execute_result"
    }
   ],
   "source": [
    "X.shape"
   ]
  },
  {
   "cell_type": "code",
   "execution_count": 0,
   "metadata": {
    "colab": {
     "base_uri": "https://localhost:8080/",
     "height": 304
    },
    "colab_type": "code",
    "executionInfo": {
     "elapsed": 1199,
     "status": "ok",
     "timestamp": 1571297275093,
     "user": {
      "displayName": "Mahesh Anand",
      "photoUrl": "https://lh3.googleusercontent.com/a-/AAuE7mDwRqsBffQmzXsc6rHxDVmepWB7mxD_zfhcK5E1=s64",
      "userId": "06788086636039591358"
     },
     "user_tz": -330
    },
    "id": "MbMl_mk3CHLj",
    "outputId": "74fe27d4-064a-4610-d76b-7e95b5949a00"
   },
   "outputs": [
    {
     "data": {
      "text/html": [
       "<div>\n",
       "<style scoped>\n",
       "    .dataframe tbody tr th:only-of-type {\n",
       "        vertical-align: middle;\n",
       "    }\n",
       "\n",
       "    .dataframe tbody tr th {\n",
       "        vertical-align: top;\n",
       "    }\n",
       "\n",
       "    .dataframe thead th {\n",
       "        text-align: right;\n",
       "    }\n",
       "</style>\n",
       "<table border=\"1\" class=\"dataframe\">\n",
       "  <thead>\n",
       "    <tr style=\"text-align: right;\">\n",
       "      <th></th>\n",
       "      <th>radius_mean</th>\n",
       "      <th>texture_mean</th>\n",
       "      <th>perimeter_mean</th>\n",
       "      <th>area_mean</th>\n",
       "      <th>smoothness_mean</th>\n",
       "      <th>compactness_mean</th>\n",
       "      <th>concavity_mean</th>\n",
       "      <th>points_mean</th>\n",
       "      <th>symmetry_mean</th>\n",
       "      <th>radius_se</th>\n",
       "      <th>perimeter_se</th>\n",
       "      <th>area_se</th>\n",
       "      <th>compactness_se</th>\n",
       "      <th>concavity_se</th>\n",
       "      <th>points_se</th>\n",
       "      <th>radius_worst</th>\n",
       "      <th>texture_worst</th>\n",
       "      <th>perimeter_worst</th>\n",
       "      <th>area_worst</th>\n",
       "      <th>smoothness_worst</th>\n",
       "      <th>compactness_worst</th>\n",
       "      <th>concavity_worst</th>\n",
       "      <th>points_worst</th>\n",
       "      <th>symmetry_worst</th>\n",
       "      <th>dimension_worst</th>\n",
       "    </tr>\n",
       "  </thead>\n",
       "  <tbody>\n",
       "    <tr>\n",
       "      <th>count</th>\n",
       "      <td>569.000000</td>\n",
       "      <td>569.000000</td>\n",
       "      <td>569.000000</td>\n",
       "      <td>569.000000</td>\n",
       "      <td>569.000000</td>\n",
       "      <td>569.000000</td>\n",
       "      <td>569.000000</td>\n",
       "      <td>569.000000</td>\n",
       "      <td>569.000000</td>\n",
       "      <td>569.000000</td>\n",
       "      <td>569.000000</td>\n",
       "      <td>569.000000</td>\n",
       "      <td>569.000000</td>\n",
       "      <td>569.000000</td>\n",
       "      <td>569.000000</td>\n",
       "      <td>569.000000</td>\n",
       "      <td>569.000000</td>\n",
       "      <td>569.000000</td>\n",
       "      <td>569.000000</td>\n",
       "      <td>569.000000</td>\n",
       "      <td>569.000000</td>\n",
       "      <td>569.000000</td>\n",
       "      <td>569.000000</td>\n",
       "      <td>569.000000</td>\n",
       "      <td>569.000000</td>\n",
       "    </tr>\n",
       "    <tr>\n",
       "      <th>mean</th>\n",
       "      <td>14.127292</td>\n",
       "      <td>19.289649</td>\n",
       "      <td>91.969033</td>\n",
       "      <td>654.889104</td>\n",
       "      <td>0.096360</td>\n",
       "      <td>0.104341</td>\n",
       "      <td>0.088799</td>\n",
       "      <td>0.048919</td>\n",
       "      <td>0.181162</td>\n",
       "      <td>0.405172</td>\n",
       "      <td>2.866059</td>\n",
       "      <td>40.337079</td>\n",
       "      <td>0.025478</td>\n",
       "      <td>0.031894</td>\n",
       "      <td>0.011796</td>\n",
       "      <td>16.269190</td>\n",
       "      <td>25.677223</td>\n",
       "      <td>107.261213</td>\n",
       "      <td>880.583128</td>\n",
       "      <td>0.132369</td>\n",
       "      <td>0.254265</td>\n",
       "      <td>0.272188</td>\n",
       "      <td>0.114606</td>\n",
       "      <td>0.290076</td>\n",
       "      <td>0.083946</td>\n",
       "    </tr>\n",
       "    <tr>\n",
       "      <th>std</th>\n",
       "      <td>3.524049</td>\n",
       "      <td>4.301036</td>\n",
       "      <td>24.298981</td>\n",
       "      <td>351.914129</td>\n",
       "      <td>0.014064</td>\n",
       "      <td>0.052813</td>\n",
       "      <td>0.079720</td>\n",
       "      <td>0.038803</td>\n",
       "      <td>0.027414</td>\n",
       "      <td>0.277313</td>\n",
       "      <td>2.021855</td>\n",
       "      <td>45.491006</td>\n",
       "      <td>0.017908</td>\n",
       "      <td>0.030186</td>\n",
       "      <td>0.006170</td>\n",
       "      <td>4.833242</td>\n",
       "      <td>6.146258</td>\n",
       "      <td>33.602542</td>\n",
       "      <td>569.356993</td>\n",
       "      <td>0.022832</td>\n",
       "      <td>0.157336</td>\n",
       "      <td>0.208624</td>\n",
       "      <td>0.065732</td>\n",
       "      <td>0.061867</td>\n",
       "      <td>0.018061</td>\n",
       "    </tr>\n",
       "    <tr>\n",
       "      <th>min</th>\n",
       "      <td>6.981000</td>\n",
       "      <td>9.710000</td>\n",
       "      <td>43.790000</td>\n",
       "      <td>143.500000</td>\n",
       "      <td>0.052630</td>\n",
       "      <td>0.019380</td>\n",
       "      <td>0.000000</td>\n",
       "      <td>0.000000</td>\n",
       "      <td>0.106000</td>\n",
       "      <td>0.111500</td>\n",
       "      <td>0.757000</td>\n",
       "      <td>6.802000</td>\n",
       "      <td>0.002252</td>\n",
       "      <td>0.000000</td>\n",
       "      <td>0.000000</td>\n",
       "      <td>7.930000</td>\n",
       "      <td>12.020000</td>\n",
       "      <td>50.410000</td>\n",
       "      <td>185.200000</td>\n",
       "      <td>0.071170</td>\n",
       "      <td>0.027290</td>\n",
       "      <td>0.000000</td>\n",
       "      <td>0.000000</td>\n",
       "      <td>0.156500</td>\n",
       "      <td>0.055040</td>\n",
       "    </tr>\n",
       "    <tr>\n",
       "      <th>25%</th>\n",
       "      <td>11.700000</td>\n",
       "      <td>16.170000</td>\n",
       "      <td>75.170000</td>\n",
       "      <td>420.300000</td>\n",
       "      <td>0.086370</td>\n",
       "      <td>0.064920</td>\n",
       "      <td>0.029560</td>\n",
       "      <td>0.020310</td>\n",
       "      <td>0.161900</td>\n",
       "      <td>0.232400</td>\n",
       "      <td>1.606000</td>\n",
       "      <td>17.850000</td>\n",
       "      <td>0.013080</td>\n",
       "      <td>0.015090</td>\n",
       "      <td>0.007638</td>\n",
       "      <td>13.010000</td>\n",
       "      <td>21.080000</td>\n",
       "      <td>84.110000</td>\n",
       "      <td>515.300000</td>\n",
       "      <td>0.116600</td>\n",
       "      <td>0.147200</td>\n",
       "      <td>0.114500</td>\n",
       "      <td>0.064930</td>\n",
       "      <td>0.250400</td>\n",
       "      <td>0.071460</td>\n",
       "    </tr>\n",
       "    <tr>\n",
       "      <th>50%</th>\n",
       "      <td>13.370000</td>\n",
       "      <td>18.840000</td>\n",
       "      <td>86.240000</td>\n",
       "      <td>551.100000</td>\n",
       "      <td>0.095870</td>\n",
       "      <td>0.092630</td>\n",
       "      <td>0.061540</td>\n",
       "      <td>0.033500</td>\n",
       "      <td>0.179200</td>\n",
       "      <td>0.324200</td>\n",
       "      <td>2.287000</td>\n",
       "      <td>24.530000</td>\n",
       "      <td>0.020450</td>\n",
       "      <td>0.025890</td>\n",
       "      <td>0.010930</td>\n",
       "      <td>14.970000</td>\n",
       "      <td>25.410000</td>\n",
       "      <td>97.660000</td>\n",
       "      <td>686.500000</td>\n",
       "      <td>0.131300</td>\n",
       "      <td>0.211900</td>\n",
       "      <td>0.226700</td>\n",
       "      <td>0.099930</td>\n",
       "      <td>0.282200</td>\n",
       "      <td>0.080040</td>\n",
       "    </tr>\n",
       "    <tr>\n",
       "      <th>75%</th>\n",
       "      <td>15.780000</td>\n",
       "      <td>21.800000</td>\n",
       "      <td>104.100000</td>\n",
       "      <td>782.700000</td>\n",
       "      <td>0.105300</td>\n",
       "      <td>0.130400</td>\n",
       "      <td>0.130700</td>\n",
       "      <td>0.074000</td>\n",
       "      <td>0.195700</td>\n",
       "      <td>0.478900</td>\n",
       "      <td>3.357000</td>\n",
       "      <td>45.190000</td>\n",
       "      <td>0.032450</td>\n",
       "      <td>0.042050</td>\n",
       "      <td>0.014710</td>\n",
       "      <td>18.790000</td>\n",
       "      <td>29.720000</td>\n",
       "      <td>125.400000</td>\n",
       "      <td>1084.000000</td>\n",
       "      <td>0.146000</td>\n",
       "      <td>0.339100</td>\n",
       "      <td>0.382900</td>\n",
       "      <td>0.161400</td>\n",
       "      <td>0.317900</td>\n",
       "      <td>0.092080</td>\n",
       "    </tr>\n",
       "    <tr>\n",
       "      <th>max</th>\n",
       "      <td>28.110000</td>\n",
       "      <td>39.280000</td>\n",
       "      <td>188.500000</td>\n",
       "      <td>2501.000000</td>\n",
       "      <td>0.163400</td>\n",
       "      <td>0.345400</td>\n",
       "      <td>0.426800</td>\n",
       "      <td>0.201200</td>\n",
       "      <td>0.304000</td>\n",
       "      <td>2.873000</td>\n",
       "      <td>21.980000</td>\n",
       "      <td>542.200000</td>\n",
       "      <td>0.135400</td>\n",
       "      <td>0.396000</td>\n",
       "      <td>0.052790</td>\n",
       "      <td>36.040000</td>\n",
       "      <td>49.540000</td>\n",
       "      <td>251.200000</td>\n",
       "      <td>4254.000000</td>\n",
       "      <td>0.222600</td>\n",
       "      <td>1.058000</td>\n",
       "      <td>1.252000</td>\n",
       "      <td>0.291000</td>\n",
       "      <td>0.663800</td>\n",
       "      <td>0.207500</td>\n",
       "    </tr>\n",
       "  </tbody>\n",
       "</table>\n",
       "</div>"
      ],
      "text/plain": [
       "       radius_mean  texture_mean  ...  symmetry_worst  dimension_worst\n",
       "count   569.000000    569.000000  ...      569.000000       569.000000\n",
       "mean     14.127292     19.289649  ...        0.290076         0.083946\n",
       "std       3.524049      4.301036  ...        0.061867         0.018061\n",
       "min       6.981000      9.710000  ...        0.156500         0.055040\n",
       "25%      11.700000     16.170000  ...        0.250400         0.071460\n",
       "50%      13.370000     18.840000  ...        0.282200         0.080040\n",
       "75%      15.780000     21.800000  ...        0.317900         0.092080\n",
       "max      28.110000     39.280000  ...        0.663800         0.207500\n",
       "\n",
       "[8 rows x 25 columns]"
      ]
     },
     "execution_count": 13,
     "metadata": {
      "tags": []
     },
     "output_type": "execute_result"
    }
   ],
   "source": [
    "X.describe()"
   ]
  },
  {
   "cell_type": "code",
   "execution_count": 0,
   "metadata": {
    "colab": {},
    "colab_type": "code",
    "id": "dHPdnLVaLQhu"
   },
   "outputs": [],
   "source": [
    "sc=StandardScaler()\n",
    "X_std=sc.fit_transform(X)\n"
   ]
  },
  {
   "cell_type": "code",
   "execution_count": 0,
   "metadata": {
    "colab": {},
    "colab_type": "code",
    "id": "450QalWltkLm"
   },
   "outputs": [],
   "source": [
    "from sklearn.linear_model import LogisticRegression\n",
    "from sklearn.naive_bayes import GaussianNB\n",
    "from sklearn.neighbors import KNeighborsClassifier\n",
    "from sklearn.tree import DecisionTreeClassifier\n",
    "from sklearn.ensemble import RandomForestClassifier,BaggingClassifier,AdaBoostClassifier,GradientBoostingClassifier\n",
    "from sklearn.ensemble import VotingClassifier\n"
   ]
  },
  {
   "cell_type": "code",
   "execution_count": 0,
   "metadata": {
    "colab": {},
    "colab_type": "code",
    "id": "QhqXVoVgtkZa"
   },
   "outputs": [],
   "source": [
    "LR=LogisticRegression()\n",
    "NB=GaussianNB()"
   ]
  },
  {
   "cell_type": "code",
   "execution_count": 0,
   "metadata": {
    "colab": {},
    "colab_type": "code",
    "id": "auCOeaiXuufm"
   },
   "outputs": [],
   "source": [
    "models = []\n",
    "models.append(('Logistic', LR))\n",
    "models.append(('NaiveBayes', NB))"
   ]
  },
  {
   "cell_type": "code",
   "execution_count": 0,
   "metadata": {
    "colab": {
     "base_uri": "https://localhost:8080/",
     "height": 328
    },
    "colab_type": "code",
    "executionInfo": {
     "elapsed": 1353,
     "status": "ok",
     "timestamp": 1581511389083,
     "user": {
      "displayName": "Mahesh Anand",
      "photoUrl": "https://lh3.googleusercontent.com/a-/AAuE7mDwRqsBffQmzXsc6rHxDVmepWB7mxD_zfhcK5E1=s64",
      "userId": "06788086636039591358"
     },
     "user_tz": -330
    },
    "id": "Dmu5XONktkWu",
    "outputId": "5b24c094-5707-4703-a2cb-060a2197d612"
   },
   "outputs": [
    {
     "name": "stdout",
     "output_type": "stream",
     "text": [
      "Logistic: 0.995696 (0.000017)\n",
      "NaiveBayes: 0.983621 (0.000152)\n"
     ]
    },
    {
     "data": {
      "image/png": "[encoded data removed]",
      "text/plain": [
       "<Figure size 432x288 with 1 Axes>"
      ]
     },
     "metadata": {
      "tags": []
     },
     "output_type": "display_data"
    }
   ],
   "source": [
    "results = []\n",
    "names = []\n",
    "for name, model in models:\n",
    "\tkfold = model_selection.KFold(shuffle=True,n_splits=5,random_state=0)\n",
    "\tcv_results = model_selection.cross_val_score(model, X_std, Y,cv=kfold, scoring='roc_auc')\n",
    "\tresults.append(cv_results)\n",
    "\tnames.append(name)\n",
    "\tprint(\"%s: %f (%f)\" % (name, np.mean(cv_results),np.var(cv_results,ddof=1)))\n",
    "   # boxplot algorithm comparison\n",
    "fig = plt.figure()\n",
    "fig.suptitle('Algorithm Comparison')\n",
    "ax = fig.add_subplot(111)\n",
    "plt.boxplot(results)\n",
    "ax.set_xticklabels(names)\n",
    "plt.show()"
   ]
  },
  {
   "cell_type": "code",
   "execution_count": 0,
   "metadata": {
    "colab": {},
    "colab_type": "code",
    "id": "At4MhrQWtkT1"
   },
   "outputs": [],
   "source": []
  },
  {
   "cell_type": "code",
   "execution_count": 0,
   "metadata": {
    "colab": {},
    "colab_type": "code",
    "id": "gxpxpGOmtkIg"
   },
   "outputs": [],
   "source": []
  },
  {
   "cell_type": "code",
   "execution_count": 0,
   "metadata": {
    "colab": {},
    "colab_type": "code",
    "id": "qy78Z908tkEW"
   },
   "outputs": [],
   "source": []
  },
  {
   "cell_type": "code",
   "execution_count": 0,
   "metadata": {
    "colab": {},
    "colab_type": "code",
    "id": "I9HBZKcDpEVS"
   },
   "outputs": [],
   "source": [
    "cov_matrix = np.cov(X_std.T)"
   ]
  },
  {
   "cell_type": "code",
   "execution_count": 0,
   "metadata": {
    "colab": {},
    "colab_type": "code",
    "id": "LBUaiYo2pEu4"
   },
   "outputs": [],
   "source": [
    "eig_vals, eig_vecs = np.linalg.eig(cov_matrix)"
   ]
  },
  {
   "cell_type": "code",
   "execution_count": 0,
   "metadata": {
    "colab": {
     "base_uri": "https://localhost:8080/",
     "height": 134
    },
    "colab_type": "code",
    "executionInfo": {
     "elapsed": 1214,
     "status": "ok",
     "timestamp": 1571297932381,
     "user": {
      "displayName": "Mahesh Anand",
      "photoUrl": "https://lh3.googleusercontent.com/a-/AAuE7mDwRqsBffQmzXsc6rHxDVmepWB7mxD_zfhcK5E1=s64",
      "userId": "06788086636039591358"
     },
     "user_tz": -330
    },
    "id": "enwaOhcyp5ch",
    "outputId": "956f0ee2-569e-42ab-d40e-9dce9c4380e7"
   },
   "outputs": [
    {
     "data": {
      "text/plain": [
       "array([1.31203911e+01, 4.30154173e+00, 1.96677612e+00, 1.69859685e+00,\n",
       "       1.13998454e+00, 8.33957854e-01, 5.72703753e-01, 3.39315036e-01,\n",
       "       2.49525218e-01, 1.73430451e-01, 1.53958598e-01, 1.11766687e-01,\n",
       "       8.13547190e-02, 6.59942089e-02, 5.76853799e-02, 4.83493304e-02,\n",
       "       4.24502630e-02, 2.75282337e-02, 2.09873321e-02, 1.80448960e-02,\n",
       "       1.36162188e-04, 7.98166352e-04, 1.67178495e-03, 9.59415291e-03,\n",
       "       7.47147551e-03])"
      ]
     },
     "execution_count": 24,
     "metadata": {
      "tags": []
     },
     "output_type": "execute_result"
    }
   ],
   "source": [
    "eig_vals"
   ]
  },
  {
   "cell_type": "code",
   "execution_count": 0,
   "metadata": {
    "colab": {},
    "colab_type": "code",
    "id": "yjPbnmPtpE05"
   },
   "outputs": [],
   "source": [
    "eigen_pairs = [(np.abs(eig_vals[i]), eig_vecs[ :, i]) for i in range(len(eig_vals))]"
   ]
  },
  {
   "cell_type": "code",
   "execution_count": 0,
   "metadata": {
    "colab": {},
    "colab_type": "code",
    "id": "5MZXPrFhpOqQ"
   },
   "outputs": [],
   "source": [
    "eigen_pairs_sorted=sorted(eigen_pairs,reverse=True)"
   ]
  },
  {
   "cell_type": "code",
   "execution_count": 0,
   "metadata": {
    "colab": {
     "base_uri": "https://localhost:8080/",
     "height": 101
    },
    "colab_type": "code",
    "executionInfo": {
     "elapsed": 1181,
     "status": "ok",
     "timestamp": 1571297769276,
     "user": {
      "displayName": "Mahesh Anand",
      "photoUrl": "https://lh3.googleusercontent.com/a-/AAuE7mDwRqsBffQmzXsc6rHxDVmepWB7mxD_zfhcK5E1=s64",
      "userId": "06788086636039591358"
     },
     "user_tz": -330
    },
    "id": "MazMkgAUpOtD",
    "outputId": "505c63bd-7821-486f-e47a-fead96d9c236"
   },
   "outputs": [
    {
     "name": "stdout",
     "output_type": "stream",
     "text": [
      "Cumulative Variance Explained [ 52.38932985  69.56525746  77.41853575  84.20098222  88.75290641\n",
      "  92.08287521  94.36966418  95.72453898  96.72088573  97.41338834\n",
      "  98.02814042  98.47442146  98.79926842  99.06278132  99.29311732\n",
      "  99.48617475  99.65567739  99.7655968   99.84939859  99.92145132\n",
      "  99.95976049  99.98959387  99.99626925  99.99945631 100.        ]\n"
     ]
    }
   ],
   "source": [
    "tot = sum(eig_vals)\n",
    "var_exp = [( i /tot ) * 100 for i in sorted(eig_vals, reverse=True)]\n",
    "cum_var_exp = np.cumsum(var_exp)\n",
    "print(\"Cumulative Variance Explained\", cum_var_exp)"
   ]
  },
  {
   "cell_type": "code",
   "execution_count": 0,
   "metadata": {
    "colab": {},
    "colab_type": "code",
    "id": "msUrM_NGpt5q"
   },
   "outputs": [],
   "source": [
    "# Extract the descending ordered eigenvalues and eigenvectors\n",
    "eigvalues_sort = [eigen_pairs_sorted[index][0] for index in range(len(eig_vals))]\n",
    "eigvectors_sort = [eigen_pairs_sorted[index][1] for index in range(len(eig_vals))]"
   ]
  },
  {
   "cell_type": "code",
   "execution_count": 0,
   "metadata": {
    "colab": {},
    "colab_type": "code",
    "id": "dHxzzFhwpxAp"
   },
   "outputs": [],
   "source": [
    "P_reduce = np.array(eigvectors_sort[0:8]).transpose()"
   ]
  },
  {
   "cell_type": "code",
   "execution_count": 0,
   "metadata": {
    "colab": {
     "base_uri": "https://localhost:8080/",
     "height": 34
    },
    "colab_type": "code",
    "executionInfo": {
     "elapsed": 1565,
     "status": "ok",
     "timestamp": 1571302705921,
     "user": {
      "displayName": "Mahesh Anand",
      "photoUrl": "https://lh3.googleusercontent.com/a-/AAuE7mDwRqsBffQmzXsc6rHxDVmepWB7mxD_zfhcK5E1=s64",
      "userId": "06788086636039591358"
     },
     "user_tz": -330
    },
    "id": "aFhc--10qHaC",
    "outputId": "6275813a-e855-43a6-a247-9a9b8ef93669"
   },
   "outputs": [
    {
     "data": {
      "text/plain": [
       "(569, 8)"
      ]
     },
     "execution_count": 39,
     "metadata": {
      "tags": []
     },
     "output_type": "execute_result"
    }
   ],
   "source": [
    "# Let's project data onto 2D space\n",
    "Proj_data = np.dot(X_std,P_reduce)\n",
    "Proj_data.shape"
   ]
  },
  {
   "cell_type": "code",
   "execution_count": 0,
   "metadata": {
    "colab": {
     "base_uri": "https://localhost:8080/",
     "height": 34
    },
    "colab_type": "code",
    "executionInfo": {
     "elapsed": 1205,
     "status": "ok",
     "timestamp": 1571302785477,
     "user": {
      "displayName": "Mahesh Anand",
      "photoUrl": "https://lh3.googleusercontent.com/a-/AAuE7mDwRqsBffQmzXsc6rHxDVmepWB7mxD_zfhcK5E1=s64",
      "userId": "06788086636039591358"
     },
     "user_tz": -330
    },
    "id": "h1S-hp_yqcu8",
    "outputId": "a5e0a3df-9640-43bf-a631-1604be3c8889"
   },
   "outputs": [
    {
     "data": {
      "text/plain": [
       "((500, 8), (69, 8))"
      ]
     },
     "execution_count": 44,
     "metadata": {
      "tags": []
     },
     "output_type": "execute_result"
    }
   ],
   "source": [
    "X_final=Proj_data[:500,:]\n",
    "Y_final=Y[:500]\n",
    "Y_true=Y[500:]\n",
    "X_prod=Proj_data[500:,:]\n",
    "X_final.shape,X_prod.shape"
   ]
  },
  {
   "cell_type": "code",
   "execution_count": 0,
   "metadata": {
    "colab": {},
    "colab_type": "code",
    "id": "wRv-kXJt5tin"
   },
   "outputs": [],
   "source": [
    "from sklearn.linear_model import LogisticRegression\n",
    "from sklearn.naive_bayes import GaussianNB\n",
    "from sklearn.neighbors import KNeighborsClassifier\n",
    "from sklearn.tree import DecisionTreeClassifier\n",
    "from sklearn.ensemble import RandomForestClassifier,BaggingClassifier,AdaBoostClassifier,GradientBoostingClassifier\n",
    "from sklearn.ensemble import VotingClassifier\n",
    "\n"
   ]
  },
  {
   "cell_type": "code",
   "execution_count": 0,
   "metadata": {
    "colab": {},
    "colab_type": "code",
    "id": "hr2wqBL0Tgtg"
   },
   "outputs": [],
   "source": [
    "import warnings\n",
    "from sklearn.exceptions import DataConversionWarning\n",
    "warnings.filterwarnings(action='ignore', category=DataConversionWarning)\n",
    "warnings.filterwarnings(action='ignore', category=FutureWarning)"
   ]
  },
  {
   "cell_type": "code",
   "execution_count": 0,
   "metadata": {
    "colab": {},
    "colab_type": "code",
    "id": "QLqRftK7RY8B"
   },
   "outputs": [],
   "source": [
    "LR=LogisticRegression()\n",
    "NB=GaussianNB()\n",
    "KNN=KNeighborsClassifier(n_neighbors=9,weights='distance')\n",
    "DT=DecisionTreeClassifier()\n",
    "RF=RandomForestClassifier(criterion='entropy',n_estimators=10)\n",
    "Bagged=BaggingClassifier(n_estimators=50)\n",
    "AdaBoost=AdaBoostClassifier(n_estimators=50)\n",
    "AB_RF=AdaBoostClassifier(base_estimator=RF,n_estimators=100)\n",
    "GBoost=GradientBoostingClassifier(n_estimators=100)\n",
    "#stacked = VotingRegressor(estimators = [('GBoost',GBoost),('Boost_RF', AB_RF), ('Bagged', Bagged)])"
   ]
  },
  {
   "cell_type": "code",
   "execution_count": 0,
   "metadata": {
    "colab": {},
    "colab_type": "code",
    "id": "KnOaqO975h8z"
   },
   "outputs": [],
   "source": [
    "models = []\n",
    "models.append(('Logistic', LR))\n",
    "models.append(('NaiveBayes', NB))\n",
    "models.append(('KNN',KNN))\n",
    "models.append(('DT',DT))\n",
    "models.append(('RandomForest',RF))\n",
    "models.append(('Bagged',Bagged))\n",
    "models.append(('AdaBoost',AdaBoost))\n",
    "models.append(('AdaBoostRF',AB_RF))\n",
    "models.append(('GradientBoost',GBoost))\n",
    "#models.append(('VotingRegressor',stacked))"
   ]
  },
  {
   "cell_type": "code",
   "execution_count": 0,
   "metadata": {
    "colab": {
     "base_uri": "https://localhost:8080/",
     "height": 446
    },
    "colab_type": "code",
    "executionInfo": {
     "elapsed": 2652,
     "status": "ok",
     "timestamp": 1571302743339,
     "user": {
      "displayName": "Mahesh Anand",
      "photoUrl": "https://lh3.googleusercontent.com/a-/AAuE7mDwRqsBffQmzXsc6rHxDVmepWB7mxD_zfhcK5E1=s64",
      "userId": "06788086636039591358"
     },
     "user_tz": -330
    },
    "id": "fthNef9-5TUP",
    "outputId": "3611e88a-3063-4abf-9b10-b24936ec81a1"
   },
   "outputs": [
    {
     "name": "stdout",
     "output_type": "stream",
     "text": [
      "Logistic: 0.005263 (0.004676)\n",
      "NaiveBayes: 0.027564 (0.028018)\n",
      "KNN: 0.013343 (0.010483)\n",
      "DT: 0.071468 (0.037079)\n",
      "RandomForest: 0.021240 (0.017327)\n",
      "Bagged: 0.017584 (0.013681)\n",
      "AdaBoost: 0.014851 (0.014752)\n",
      "AdaBoostRF: 0.011805 (0.009331)\n",
      "GradientBoost: 0.013858 (0.009595)\n"
     ]
    },
    {
     "data": {
      "image/png": "[encoded data removed]",
      "text/plain": [
       "<Figure size 432x288 with 1 Axes>"
      ]
     },
     "metadata": {
      "tags": []
     },
     "output_type": "display_data"
    }
   ],
   "source": [
    "# evaluate each model in turn\n",
    "results = []\n",
    "names = []\n",
    "for name, model in models:\n",
    "\tkfold = model_selection.KFold(shuffle=True,n_splits=5,random_state=0)\n",
    "\tcv_results = model_selection.cross_val_score(model, X_final, Y_final,cv=kfold, scoring='roc_auc')\n",
    "\tresults.append(cv_results)\n",
    "\tnames.append(name)\n",
    "\tprint(\"%s: %f (%f)\" % (name, 1-np.mean(cv_results),np.std(cv_results,ddof=1)))\n",
    "   # boxplot algorithm comparison\n",
    "fig = plt.figure()\n",
    "fig.suptitle('Algorithm Comparison')\n",
    "ax = fig.add_subplot(111)\n",
    "plt.boxplot(results)\n",
    "ax.set_xticklabels(names)\n",
    "plt.show()"
   ]
  },
  {
   "cell_type": "code",
   "execution_count": 0,
   "metadata": {
    "colab": {
     "base_uri": "https://localhost:8080/",
     "height": 101
    },
    "colab_type": "code",
    "executionInfo": {
     "elapsed": 1475,
     "status": "ok",
     "timestamp": 1571302821844,
     "user": {
      "displayName": "Mahesh Anand",
      "photoUrl": "https://lh3.googleusercontent.com/a-/AAuE7mDwRqsBffQmzXsc6rHxDVmepWB7mxD_zfhcK5E1=s64",
      "userId": "06788086636039591358"
     },
     "user_tz": -330
    },
    "id": "Bns1EhRLZTIB",
    "outputId": "b7da9ae9-710c-4348-e870-997b16f2bb7d"
   },
   "outputs": [
    {
     "data": {
      "text/plain": [
       "LogisticRegression(C=1.0, class_weight=None, dual=False, fit_intercept=True,\n",
       "                   intercept_scaling=1, l1_ratio=None, max_iter=100,\n",
       "                   multi_class='warn', n_jobs=None, penalty='l2',\n",
       "                   random_state=None, solver='warn', tol=0.0001, verbose=0,\n",
       "                   warm_start=False)"
      ]
     },
     "execution_count": 45,
     "metadata": {
      "tags": []
     },
     "output_type": "execute_result"
    }
   ],
   "source": [
    "LR.fit(X_final,Y_final)"
   ]
  },
  {
   "cell_type": "code",
   "execution_count": 0,
   "metadata": {
    "colab": {},
    "colab_type": "code",
    "id": "sJUEEJDZZnum"
   },
   "outputs": [],
   "source": [
    "y_pred=LR.predict(X_prod)"
   ]
  },
  {
   "cell_type": "code",
   "execution_count": 0,
   "metadata": {
    "colab": {
     "base_uri": "https://localhost:8080/",
     "height": 34
    },
    "colab_type": "code",
    "executionInfo": {
     "elapsed": 1224,
     "status": "ok",
     "timestamp": 1571302857433,
     "user": {
      "displayName": "Mahesh Anand",
      "photoUrl": "https://lh3.googleusercontent.com/a-/AAuE7mDwRqsBffQmzXsc6rHxDVmepWB7mxD_zfhcK5E1=s64",
      "userId": "06788086636039591358"
     },
     "user_tz": -330
    },
    "id": "zvo8oIJLeC1p",
    "outputId": "e9252e35-8a10-4bb9-8b96-1e4a36b32f90"
   },
   "outputs": [
    {
     "data": {
      "text/plain": [
       "array([1, 1, 1, 0, 0])"
      ]
     },
     "execution_count": 47,
     "metadata": {
      "tags": []
     },
     "output_type": "execute_result"
    }
   ],
   "source": [
    "y_pred[:5]"
   ]
  },
  {
   "cell_type": "code",
   "execution_count": 0,
   "metadata": {
    "colab": {
     "base_uri": "https://localhost:8080/",
     "height": 118
    },
    "colab_type": "code",
    "executionInfo": {
     "elapsed": 1249,
     "status": "ok",
     "timestamp": 1571302861323,
     "user": {
      "displayName": "Mahesh Anand",
      "photoUrl": "https://lh3.googleusercontent.com/a-/AAuE7mDwRqsBffQmzXsc6rHxDVmepWB7mxD_zfhcK5E1=s64",
      "userId": "06788086636039591358"
     },
     "user_tz": -330
    },
    "id": "OOfsshKFd77K",
    "outputId": "db1965f4-a1d8-46f2-a846-8e45c7fc027b"
   },
   "outputs": [
    {
     "data": {
      "text/plain": [
       "500    1\n",
       "501    1\n",
       "502    1\n",
       "503    0\n",
       "504    0\n",
       "Name: diagnosis, dtype: int64"
      ]
     },
     "execution_count": 48,
     "metadata": {
      "tags": []
     },
     "output_type": "execute_result"
    }
   ],
   "source": [
    "Y_true[:5]"
   ]
  },
  {
   "cell_type": "code",
   "execution_count": 0,
   "metadata": {
    "colab": {},
    "colab_type": "code",
    "id": "1cR6TjRFgcw_"
   },
   "outputs": [],
   "source": [
    "Y_pred=pd.DataFrame(y_pred)"
   ]
  },
  {
   "cell_type": "code",
   "execution_count": 0,
   "metadata": {
    "colab": {
     "base_uri": "https://localhost:8080/",
     "height": 101
    },
    "colab_type": "code",
    "executionInfo": {
     "elapsed": 809,
     "status": "ok",
     "timestamp": 1571302931512,
     "user": {
      "displayName": "Mahesh Anand",
      "photoUrl": "https://lh3.googleusercontent.com/a-/AAuE7mDwRqsBffQmzXsc6rHxDVmepWB7mxD_zfhcK5E1=s64",
      "userId": "06788086636039591358"
     },
     "user_tz": -330
    },
    "id": "91hYW_IighUH",
    "outputId": "96a9d1be-8c2a-4189-d3ba-6e7880e9dfca"
   },
   "outputs": [
    {
     "data": {
      "text/plain": [
       "array([ 0,  1,  2,  3,  4,  5,  6,  7,  8,  9, 10, 11, 12, 13, 14, 15, 16,\n",
       "       17, 18, 19, 20, 21, 22, 23, 24, 25, 26, 27, 28, 29, 30, 31, 32, 33,\n",
       "       34, 35, 36, 37, 38, 39, 40, 41, 42, 43, 44, 45, 46, 47, 48, 49, 50,\n",
       "       51, 52, 53, 54, 55, 56, 57, 58, 59, 60, 61, 62, 63, 64, 65, 66, 67,\n",
       "       68])"
      ]
     },
     "execution_count": 50,
     "metadata": {
      "tags": []
     },
     "output_type": "execute_result"
    }
   ],
   "source": [
    "idx=np.arange(len(y_pred))\n",
    "idx"
   ]
  },
  {
   "cell_type": "code",
   "execution_count": 0,
   "metadata": {
    "colab": {},
    "colab_type": "code",
    "id": "z165ajclgzci"
   },
   "outputs": [],
   "source": [
    "Y_pred.index=idx\n",
    "Y_true.index=idx"
   ]
  },
  {
   "cell_type": "code",
   "execution_count": 0,
   "metadata": {
    "colab": {
     "base_uri": "https://localhost:8080/",
     "height": 50
    },
    "colab_type": "code",
    "executionInfo": {
     "elapsed": 1330,
     "status": "ok",
     "timestamp": 1571303050618,
     "user": {
      "displayName": "Mahesh Anand",
      "photoUrl": "https://lh3.googleusercontent.com/a-/AAuE7mDwRqsBffQmzXsc6rHxDVmepWB7mxD_zfhcK5E1=s64",
      "userId": "06788086636039591358"
     },
     "user_tz": -330
    },
    "id": "3wpbvAStg7ov",
    "outputId": "4f857e31-be54-47fa-9438-91bf1d5b72bc"
   },
   "outputs": [
    {
     "name": "stdout",
     "output_type": "stream",
     "text": [
      "[[45  0]\n",
      " [ 0 24]]\n"
     ]
    }
   ],
   "source": [
    "from sklearn import metrics\n",
    "cm=metrics.confusion_matrix(Y_pred,Y_true)\n",
    "print(cm)"
   ]
  },
  {
   "cell_type": "markdown",
   "metadata": {},
   "source": [
    "Decision Tree is performing well in this dataset"
   ]
  },
  {
   "cell_type": "code",
   "execution_count": null,
   "metadata": {},
   "outputs": [],
   "source": []
  }
 ],
 "metadata": {
  "colab": {
   "collapsed_sections": [],
   "name": "Case_study4_Cancer_Prediction.ipynb",
   "provenance": []
  },
  "kernelspec": {
   "display_name": "Python 3",
   "language": "python",
   "name": "python3"
  },
  "language_info": {
   "codemirror_mode": {
    "name": "ipython",
    "version": 3
   },
   "file_extension": ".py",
   "mimetype": "text/x-python",
   "name": "python",
   "nbconvert_exporter": "python",
   "pygments_lexer": "ipython3",
   "version": "3.7.3"
  }
 },
 "nbformat": 4,
 "nbformat_minor": 1
}
